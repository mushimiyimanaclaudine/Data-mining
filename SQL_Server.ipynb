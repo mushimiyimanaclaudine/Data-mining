{
 "cells": [
  {
   "cell_type": "code",
   "execution_count": 501,
   "id": "602c9688-3fc3-4dac-8a58-65a15f9fb940",
   "metadata": {},
   "outputs": [
    {
     "name": "stdout",
     "output_type": "stream",
     "text": [
      "Requirement already satisfied: sqlalchemy in c:\\users\\niyom\\anaconda3\\lib\\site-packages (2.0.34)\n",
      "Requirement already satisfied: typing-extensions>=4.6.0 in c:\\users\\niyom\\anaconda3\\lib\\site-packages (from sqlalchemy) (4.11.0)\n",
      "Requirement already satisfied: greenlet!=0.4.17 in c:\\users\\niyom\\anaconda3\\lib\\site-packages (from sqlalchemy) (3.0.1)\n"
     ]
    }
   ],
   "source": [
    "! pip install sqlalchemy"
   ]
  },
  {
   "cell_type": "code",
   "execution_count": 502,
   "id": "46976161-47bb-4f91-826c-2d73f2cd533b",
   "metadata": {},
   "outputs": [
    {
     "name": "stdout",
     "output_type": "stream",
     "text": [
      "Requirement already satisfied: pandas in c:\\users\\niyom\\anaconda3\\lib\\site-packages (2.2.2)\n",
      "Requirement already satisfied: sqlalchemy in c:\\users\\niyom\\anaconda3\\lib\\site-packages (2.0.34)\n",
      "Requirement already satisfied: psycopg2 in c:\\users\\niyom\\anaconda3\\lib\\site-packages (2.9.10)\n",
      "Requirement already satisfied: numpy>=1.26.0 in c:\\users\\niyom\\anaconda3\\lib\\site-packages (from pandas) (1.26.4)\n",
      "Requirement already satisfied: python-dateutil>=2.8.2 in c:\\users\\niyom\\anaconda3\\lib\\site-packages (from pandas) (2.9.0.post0)\n",
      "Requirement already satisfied: pytz>=2020.1 in c:\\users\\niyom\\anaconda3\\lib\\site-packages (from pandas) (2024.1)\n",
      "Requirement already satisfied: tzdata>=2022.7 in c:\\users\\niyom\\anaconda3\\lib\\site-packages (from pandas) (2023.3)\n",
      "Requirement already satisfied: typing-extensions>=4.6.0 in c:\\users\\niyom\\anaconda3\\lib\\site-packages (from sqlalchemy) (4.11.0)\n",
      "Requirement already satisfied: greenlet!=0.4.17 in c:\\users\\niyom\\anaconda3\\lib\\site-packages (from sqlalchemy) (3.0.1)\n",
      "Requirement already satisfied: six>=1.5 in c:\\users\\niyom\\anaconda3\\lib\\site-packages (from python-dateutil>=2.8.2->pandas) (1.16.0)\n",
      "Requirement already satisfied: sqlalchemy in c:\\users\\niyom\\anaconda3\\lib\\site-packages (2.0.34)\n",
      "Requirement already satisfied: pyodbc in c:\\users\\niyom\\anaconda3\\lib\\site-packages (5.1.0)\n",
      "Requirement already satisfied: typing-extensions>=4.6.0 in c:\\users\\niyom\\anaconda3\\lib\\site-packages (from sqlalchemy) (4.11.0)\n",
      "Requirement already satisfied: greenlet!=0.4.17 in c:\\users\\niyom\\anaconda3\\lib\\site-packages (from sqlalchemy) (3.0.1)\n"
     ]
    }
   ],
   "source": [
    "!pip install pandas sqlalchemy psycopg2\n",
    "!pip install sqlalchemy pyodbc"
   ]
  },
  {
   "cell_type": "markdown",
   "id": "e110d5f0-61c1-4828-b677-6914173b3a91",
   "metadata": {},
   "source": [
    "## making connection to the database"
   ]
  },
  {
   "cell_type": "code",
   "execution_count": 1,
   "id": "5e76b201-8235-4dbf-8f79-753391ccd35b",
   "metadata": {},
   "outputs": [
    {
     "name": "stdout",
     "output_type": "stream",
     "text": [
      " Connected to SQL Server successfully using Windows Authentication!\n"
     ]
    }
   ],
   "source": [
    "import pyodbc\n",
    "import pandas as pd\n",
    "from datetime import datetime\n",
    "\n",
    "server = r'TESTING1\\SQLEXPRESS'  # Correct the server name (if needed)\n",
    "database = 'Store_booksDB'\n",
    "username = 'testing1\\\\niyom'     # Escape the backslash properly\n",
    "password = ''  # Empty, as Windows Authentication doesn't need a password here\n",
    "\n",
    "# Using Windows Authentication\n",
    "try:\n",
    "    conn = pyodbc.connect(f'DRIVER={{ODBC Driver 17 for SQL Server}};'\n",
    "                          f'SERVER={server};'\n",
    "                          f'DATABASE={database};'\n",
    "                          f'Trusted_Connection=yes;')\n",
    "    print(\" Connected to SQL Server successfully using Windows Authentication!\")\n",
    "except pyodbc.Error as e:\n",
    "    print(\"Error connecting to SQL Server:\", e)\n"
   ]
  },
  {
   "cell_type": "markdown",
   "id": "d0e14d48-c9ae-4bb4-8192-90f8dfa391d6",
   "metadata": {},
   "source": [
    "## connect to a datawarehouse"
   ]
  },
  {
   "cell_type": "code",
   "execution_count": 828,
   "id": "c0673fd5-e9b3-45be-bdff-cf218a2f0b58",
   "metadata": {},
   "outputs": [],
   "source": [
    "from sqlalchemy import create_engine\n",
    "engine = create_engine(f\"mssql+pyodbc://{username}:{password}@{server}/{database}?driver=ODBC+Driver+17+for+SQL+Server\")"
   ]
  },
  {
   "cell_type": "code",
   "execution_count": 3,
   "id": "45e66c1f-3e64-4b2a-88ac-874cf0509d62",
   "metadata": {},
   "outputs": [
    {
     "name": "stdout",
     "output_type": "stream",
     "text": [
      " Connected to SQL Server successfully using Windows Authentication!\n"
     ]
    }
   ],
   "source": [
    "\n",
    "server = r'TESTING1\\SQLEXPRESS'  # Correct the server name (if needed)\n",
    "database = 'StoreBooksDW'\n",
    "username = 'testing1\\\\niyom'     # Escape the backslash properly\n",
    "password = ''  # Empty, as Windows Authentication doesn't need a password here\n",
    "\n",
    "# Using Windows Authentication\n",
    "try:\n",
    "    conn1 = pyodbc.connect(f'DRIVER={{ODBC Driver 17 for SQL Server}};'\n",
    "                          f'SERVER={server};'\n",
    "                          f'DATABASE={database};'\n",
    "                          f'Trusted_Connection=yes;')\n",
    "    print(\" Connected to SQL Server successfully using Windows Authentication!\")\n",
    "except pyodbc.Error as e:\n",
    "    print(\" Error connecting to SQL Server:\", e)"
   ]
  },
  {
   "cell_type": "markdown",
   "id": "cb57de03-90a1-4c27-8ce2-e2caaa955460",
   "metadata": {},
   "source": [
    "## create cursor object od source database"
   ]
  },
  {
   "cell_type": "code",
   "execution_count": 1057,
   "id": "02df2cfd-a84e-45c0-b2aa-78ba2783ab7b",
   "metadata": {},
   "outputs": [],
   "source": [
    "# Create a cursor from the connection\n",
    "cursor = conn.cursor()"
   ]
  },
  {
   "cell_type": "markdown",
   "id": "774f0264-c9cc-4b6d-871b-fa88a30f7ec8",
   "metadata": {},
   "source": [
    "## create cursor object od data warehouse database"
   ]
  },
  {
   "cell_type": "code",
   "execution_count": 1060,
   "id": "9428e9a1-bf6c-4336-a76b-3cd7cc1c8340",
   "metadata": {},
   "outputs": [],
   "source": [
    "# Create a cursor from the connection\n",
    "cursor1 = conn1.cursor()"
   ]
  },
  {
   "cell_type": "markdown",
   "id": "6000b935-a209-48da-a5a9-4ca58d673b97",
   "metadata": {},
   "source": [
    "### Extract from author table"
   ]
  },
  {
   "cell_type": "code",
   "execution_count": 1067,
   "id": "6fdf1018-4a50-4e4f-a7ad-5fe3580ee0b7",
   "metadata": {},
   "outputs": [
    {
     "name": "stdout",
     "output_type": "stream",
     "text": [
      "   author_id           author_name\n",
      "0          1  A. Bartlett Giamatti\n",
      "1          2   A. Elizabeth Delany\n",
      "2          3            A. Merritt\n",
      "3          4      A. Roger Merrill\n",
      "4          5        A. Walton Litz\n"
     ]
    },
    {
     "name": "stderr",
     "output_type": "stream",
     "text": [
      "C:\\Users\\niyom\\AppData\\Local\\Temp\\ipykernel_12968\\2298771866.py:3: UserWarning: pandas only supports SQLAlchemy connectable (engine/connection) or database string URI or sqlite3 DBAPI2 connection. Other DBAPI2 objects are not tested. Please consider using SQLAlchemy.\n",
      "  df = pd.read_sql(query, conn)\n"
     ]
    }
   ],
   "source": [
    "query = \"SELECT * FROM author\"\n",
    "# Execute query and load results into a DataFrame\n",
    "df = pd.read_sql(query, conn)\n",
    "# Display the data\n",
    "print(df.head())"
   ]
  },
  {
   "cell_type": "markdown",
   "id": "58322383-c17f-41a8-a65a-6720cde2401b",
   "metadata": {},
   "source": [
    "#### Extract data from address table"
   ]
  },
  {
   "cell_type": "code",
   "execution_count": 950,
   "id": "64410bf0-4365-4c38-85d7-a9083fbfe5c0",
   "metadata": {},
   "outputs": [
    {
     "name": "stdout",
     "output_type": "stream",
     "text": [
      "   address_id street_number          street_name          city  country_id\n",
      "0           1            57  Glacier Hill Avenue  Torbat-e Jam          95\n",
      "1           2            86      Dottie Junction      Beaumont          37\n",
      "2           3           292        Ramsey Avenue       Cayambe          60\n",
      "3           4          5618   Thackeray Junction        Caldas          47\n",
      "4           5             4             2nd Park      Ngunguru         153\n"
     ]
    },
    {
     "name": "stderr",
     "output_type": "stream",
     "text": [
      "C:\\Users\\niyom\\AppData\\Local\\Temp\\ipykernel_12968\\1985813340.py:4: UserWarning: pandas only supports SQLAlchemy connectable (engine/connection) or database string URI or sqlite3 DBAPI2 connection. Other DBAPI2 objects are not tested. Please consider using SQLAlchemy.\n",
      "  df = pd.read_sql(query, conn)\n"
     ]
    }
   ],
   "source": [
    "query = \"SELECT TOP 10 * FROM address\"\n",
    "\n",
    "# Execute query and load results into a DataFrame\n",
    "df = pd.read_sql(query, conn)\n",
    "\n",
    "# Display the data\n",
    "print(df.head())"
   ]
  },
  {
   "cell_type": "markdown",
   "id": "8d50d8e8-b98b-4d39-b51b-1ad15ef55b7f",
   "metadata": {},
   "source": [
    "#### Extract data from book table"
   ]
  },
  {
   "cell_type": "code",
   "execution_count": 953,
   "id": "ffaf49c5-700a-42bb-97e1-fad99643dbec",
   "metadata": {},
   "outputs": [
    {
     "name": "stdout",
     "output_type": "stream",
     "text": [
      "   book_id                                              title       isbn13  \\\n",
      "0        1        The World's First Love: Mary  Mother of God   8987059752   \n",
      "1        2                                     The Illuminati  20049130001   \n",
      "2        3                                 The Servant Leader  23755004321   \n",
      "3        4  What Life Was Like in the Jewel in the Crown: ...  34406054602   \n",
      "4        5  Cliffs Notes on Aristophanes' Lysistrata  The ...  49086007763   \n",
      "\n",
      "   language_id  num_pages publication_date  publisher_id  \n",
      "0            2        276       1996-09-01          1010  \n",
      "1            1        352       2004-10-04          1967  \n",
      "2            1        128       2003-03-11          1967  \n",
      "3            1        168       1999-09-01          1978  \n",
      "4            1         80       1983-12-29           416  \n"
     ]
    },
    {
     "name": "stderr",
     "output_type": "stream",
     "text": [
      "C:\\Users\\niyom\\AppData\\Local\\Temp\\ipykernel_12968\\3432086728.py:4: UserWarning: pandas only supports SQLAlchemy connectable (engine/connection) or database string URI or sqlite3 DBAPI2 connection. Other DBAPI2 objects are not tested. Please consider using SQLAlchemy.\n",
      "  df = pd.read_sql(query, conn)\n"
     ]
    }
   ],
   "source": [
    "query = \"SELECT TOP 10 * FROM book\"\n",
    "\n",
    "# Execute query and load results into a DataFrame\n",
    "df = pd.read_sql(query, conn)\n",
    "\n",
    "# Display the data\n",
    "print(df.head())"
   ]
  },
  {
   "cell_type": "markdown",
   "id": "b0fe4921-c216-4ad2-b611-0e15a3e79c14",
   "metadata": {},
   "source": [
    "## Extract data from book"
   ]
  },
  {
   "cell_type": "code",
   "execution_count": 956,
   "id": "11ced800-9826-44d9-bca0-a3e58c209f1a",
   "metadata": {},
   "outputs": [
    {
     "name": "stdout",
     "output_type": "stream",
     "text": [
      "(1, \"The World's First Love: Mary  Mother of God\", '8987059752', 2, 276, datetime.date(1996, 9, 1), 1010)\n",
      "(2, 'The Illuminati', '20049130001', 1, 352, datetime.date(2004, 10, 4), 1967)\n",
      "(3, 'The Servant Leader', '23755004321', 1, 128, datetime.date(2003, 3, 11), 1967)\n",
      "(4, 'What Life Was Like in the Jewel in the Crown: British India  AD 1600-1905', '34406054602', 1, 168, datetime.date(1999, 9, 1), 1978)\n",
      "(5, \"Cliffs Notes on Aristophanes' Lysistrata  The Birds  The Clouds  The Frogs\", '49086007763', 1, 80, datetime.date(1983, 12, 29), 416)\n"
     ]
    }
   ],
   "source": [
    "\n",
    "# Example: Fetch data from a table\n",
    "cursor.execute(\"SELECT * FROM book\")\n",
    "\n",
    "# Fetch all the rows\n",
    "# rows = cursor.fetchall()\n",
    "rows = cursor.fetchmany(5)\n",
    "# Display the rows\n",
    "for row in rows:\n",
    "    print(row)"
   ]
  },
  {
   "cell_type": "code",
   "execution_count": 958,
   "id": "9daa6171-5658-43fa-a5da-a4bf99c820e7",
   "metadata": {},
   "outputs": [],
   "source": [
    "conn.commit()  # Save changes to the database"
   ]
  },
  {
   "cell_type": "markdown",
   "id": "a984664c-177b-4b9b-abe5-89e188faa8d8",
   "metadata": {},
   "source": [
    "### Extract some column Data from the Source Database\n"
   ]
  },
  {
   "cell_type": "code",
   "execution_count": 961,
   "id": "f6b38113-389b-4e3a-b579-43d48ec6384a",
   "metadata": {},
   "outputs": [
    {
     "name": "stdout",
     "output_type": "stream",
     "text": [
      "   author_id           author_name\n",
      "0          1  A. Bartlett Giamatti\n",
      "1          2   A. Elizabeth Delany\n",
      "2          3            A. Merritt\n",
      "3          4      A. Roger Merrill\n",
      "4          5        A. Walton Litz\n"
     ]
    },
    {
     "name": "stderr",
     "output_type": "stream",
     "text": [
      "C:\\Users\\niyom\\AppData\\Local\\Temp\\ipykernel_12968\\1706445448.py:7: UserWarning: pandas only supports SQLAlchemy connectable (engine/connection) or database string URI or sqlite3 DBAPI2 connection. Other DBAPI2 objects are not tested. Please consider using SQLAlchemy.\n",
      "  df_author = pd.read_sql(query, conn)\n"
     ]
    }
   ],
   "source": [
    "import pandas as pd\n",
    "\n",
    "# SQL query to extract data\n",
    "query = \"SELECT author_id, author_name FROM author\"\n",
    "\n",
    "# Execute query and load into Pandas DataFrame\n",
    "df_author = pd.read_sql(query, conn)\n",
    "\n",
    "# Show extracted data\n",
    "print(df_author.head())\n"
   ]
  },
  {
   "cell_type": "markdown",
   "id": "07713c88-1c05-4f65-a238-f237626537bd",
   "metadata": {},
   "source": []
  },
  {
   "cell_type": "markdown",
   "id": "1437a149-afe6-462a-9f3f-761a1a43b08d",
   "metadata": {},
   "source": [
    "### print 5 columns"
   ]
  },
  {
   "cell_type": "code",
   "execution_count": 965,
   "id": "5cd5b305-e081-43ca-b42b-92ee3ab1b855",
   "metadata": {},
   "outputs": [
    {
     "name": "stdout",
     "output_type": "stream",
     "text": [
      "   book_id                                              title       isbn13  \\\n",
      "0        1        The World's First Love: Mary  Mother of God   8987059752   \n",
      "1        2                                     The Illuminati  20049130001   \n",
      "2        3                                 The Servant Leader  23755004321   \n",
      "3        4  What Life Was Like in the Jewel in the Crown: ...  34406054602   \n",
      "4        5  Cliffs Notes on Aristophanes' Lysistrata  The ...  49086007763   \n",
      "\n",
      "   language_id  num_pages publication_date  publisher_id  \n",
      "0            2        276       1996-09-01          1010  \n",
      "1            1        352       2004-10-04          1967  \n",
      "2            1        128       2003-03-11          1967  \n",
      "3            1        168       1999-09-01          1978  \n",
      "4            1         80       1983-12-29           416  \n"
     ]
    }
   ],
   "source": [
    "print(df.head())"
   ]
  },
  {
   "cell_type": "markdown",
   "id": "d4c6027a-de02-47d1-91ec-a0ac9a2fd719",
   "metadata": {},
   "source": [
    "## Extract data from the source tables into Pandas dataframes"
   ]
  },
  {
   "cell_type": "code",
   "execution_count": 968,
   "id": "cc309752-5024-4d0d-9b3f-2b4c2abe76f5",
   "metadata": {},
   "outputs": [
    {
     "name": "stderr",
     "output_type": "stream",
     "text": [
      "C:\\Users\\niyom\\AppData\\Local\\Temp\\ipykernel_12968\\1107021903.py:2: UserWarning: pandas only supports SQLAlchemy connectable (engine/connection) or database string URI or sqlite3 DBAPI2 connection. Other DBAPI2 objects are not tested. Please consider using SQLAlchemy.\n",
      "  customer_df = pd.read_sql(\"SELECT * FROM customer\", conn)\n",
      "C:\\Users\\niyom\\AppData\\Local\\Temp\\ipykernel_12968\\1107021903.py:3: UserWarning: pandas only supports SQLAlchemy connectable (engine/connection) or database string URI or sqlite3 DBAPI2 connection. Other DBAPI2 objects are not tested. Please consider using SQLAlchemy.\n",
      "  customer_address_df = pd.read_sql(\"SELECT * FROM customer_address\", conn)\n",
      "C:\\Users\\niyom\\AppData\\Local\\Temp\\ipykernel_12968\\1107021903.py:4: UserWarning: pandas only supports SQLAlchemy connectable (engine/connection) or database string URI or sqlite3 DBAPI2 connection. Other DBAPI2 objects are not tested. Please consider using SQLAlchemy.\n",
      "  cust_order_df = pd.read_sql(\"SELECT * FROM cust_order\", conn)\n",
      "C:\\Users\\niyom\\AppData\\Local\\Temp\\ipykernel_12968\\1107021903.py:5: UserWarning: pandas only supports SQLAlchemy connectable (engine/connection) or database string URI or sqlite3 DBAPI2 connection. Other DBAPI2 objects are not tested. Please consider using SQLAlchemy.\n",
      "  address_df = pd.read_sql(\"SELECT * FROM address\", conn)\n",
      "C:\\Users\\niyom\\AppData\\Local\\Temp\\ipykernel_12968\\1107021903.py:6: UserWarning: pandas only supports SQLAlchemy connectable (engine/connection) or database string URI or sqlite3 DBAPI2 connection. Other DBAPI2 objects are not tested. Please consider using SQLAlchemy.\n",
      "  address_status_df = pd.read_sql(\"SELECT * FROM address_status\", conn)\n",
      "C:\\Users\\niyom\\AppData\\Local\\Temp\\ipykernel_12968\\1107021903.py:7: UserWarning: pandas only supports SQLAlchemy connectable (engine/connection) or database string URI or sqlite3 DBAPI2 connection. Other DBAPI2 objects are not tested. Please consider using SQLAlchemy.\n",
      "  country_df = pd.read_sql(\"SELECT * FROM country\", conn)\n",
      "C:\\Users\\niyom\\AppData\\Local\\Temp\\ipykernel_12968\\1107021903.py:8: UserWarning: pandas only supports SQLAlchemy connectable (engine/connection) or database string URI or sqlite3 DBAPI2 connection. Other DBAPI2 objects are not tested. Please consider using SQLAlchemy.\n",
      "  book_df = pd.read_sql(\"SELECT * FROM book\", conn)\n",
      "C:\\Users\\niyom\\AppData\\Local\\Temp\\ipykernel_12968\\1107021903.py:9: UserWarning: pandas only supports SQLAlchemy connectable (engine/connection) or database string URI or sqlite3 DBAPI2 connection. Other DBAPI2 objects are not tested. Please consider using SQLAlchemy.\n",
      "  book_author_df = pd.read_sql(\"SELECT * FROM book_author\", conn)\n",
      "C:\\Users\\niyom\\AppData\\Local\\Temp\\ipykernel_12968\\1107021903.py:10: UserWarning: pandas only supports SQLAlchemy connectable (engine/connection) or database string URI or sqlite3 DBAPI2 connection. Other DBAPI2 objects are not tested. Please consider using SQLAlchemy.\n",
      "  order_df = pd.read_sql(\"SELECT * FROM cust_order\", conn)\n",
      "C:\\Users\\niyom\\AppData\\Local\\Temp\\ipykernel_12968\\1107021903.py:11: UserWarning: pandas only supports SQLAlchemy connectable (engine/connection) or database string URI or sqlite3 DBAPI2 connection. Other DBAPI2 objects are not tested. Please consider using SQLAlchemy.\n",
      "  order_history_df = pd.read_sql(\"SELECT * FROM order_history\", conn)\n",
      "C:\\Users\\niyom\\AppData\\Local\\Temp\\ipykernel_12968\\1107021903.py:12: UserWarning: pandas only supports SQLAlchemy connectable (engine/connection) or database string URI or sqlite3 DBAPI2 connection. Other DBAPI2 objects are not tested. Please consider using SQLAlchemy.\n",
      "  order_line_df = pd.read_sql(\"SELECT * FROM order_line\", conn)\n",
      "C:\\Users\\niyom\\AppData\\Local\\Temp\\ipykernel_12968\\1107021903.py:13: UserWarning: pandas only supports SQLAlchemy connectable (engine/connection) or database string URI or sqlite3 DBAPI2 connection. Other DBAPI2 objects are not tested. Please consider using SQLAlchemy.\n",
      "  order_status_df = pd.read_sql(\"SELECT * FROM order_status\", conn)\n",
      "C:\\Users\\niyom\\AppData\\Local\\Temp\\ipykernel_12968\\1107021903.py:14: UserWarning: pandas only supports SQLAlchemy connectable (engine/connection) or database string URI or sqlite3 DBAPI2 connection. Other DBAPI2 objects are not tested. Please consider using SQLAlchemy.\n",
      "  publisher_df = pd.read_sql(\"SELECT * FROM publisher\", conn)\n",
      "C:\\Users\\niyom\\AppData\\Local\\Temp\\ipykernel_12968\\1107021903.py:15: UserWarning: pandas only supports SQLAlchemy connectable (engine/connection) or database string URI or sqlite3 DBAPI2 connection. Other DBAPI2 objects are not tested. Please consider using SQLAlchemy.\n",
      "  shipping_df = pd.read_sql(\"SELECT * FROM shipping_method\", conn)\n",
      "C:\\Users\\niyom\\AppData\\Local\\Temp\\ipykernel_12968\\1107021903.py:16: UserWarning: pandas only supports SQLAlchemy connectable (engine/connection) or database string URI or sqlite3 DBAPI2 connection. Other DBAPI2 objects are not tested. Please consider using SQLAlchemy.\n",
      "  book_language_df = pd.read_sql(\"SELECT * FROM book_language\", conn)\n"
     ]
    },
    {
     "data": {
      "text/html": [
       "<div>\n",
       "<style scoped>\n",
       "    .dataframe tbody tr th:only-of-type {\n",
       "        vertical-align: middle;\n",
       "    }\n",
       "\n",
       "    .dataframe tbody tr th {\n",
       "        vertical-align: top;\n",
       "    }\n",
       "\n",
       "    .dataframe thead th {\n",
       "        text-align: right;\n",
       "    }\n",
       "</style>\n",
       "<table border=\"1\" class=\"dataframe\">\n",
       "  <thead>\n",
       "    <tr style=\"text-align: right;\">\n",
       "      <th></th>\n",
       "      <th>customer_id</th>\n",
       "      <th>first_name</th>\n",
       "      <th>last_name</th>\n",
       "      <th>email</th>\n",
       "    </tr>\n",
       "  </thead>\n",
       "  <tbody>\n",
       "    <tr>\n",
       "      <th>0</th>\n",
       "      <td>1</td>\n",
       "      <td>Ursola</td>\n",
       "      <td>Purdy</td>\n",
       "      <td>upurdy0@cdbaby.com</td>\n",
       "    </tr>\n",
       "    <tr>\n",
       "      <th>1</th>\n",
       "      <td>2</td>\n",
       "      <td>Ruthanne</td>\n",
       "      <td>Vatini</td>\n",
       "      <td>rvatini1@fema.gov</td>\n",
       "    </tr>\n",
       "    <tr>\n",
       "      <th>2</th>\n",
       "      <td>3</td>\n",
       "      <td>Reidar</td>\n",
       "      <td>Turbitt</td>\n",
       "      <td>rturbitt2@geocities.jp</td>\n",
       "    </tr>\n",
       "    <tr>\n",
       "      <th>3</th>\n",
       "      <td>4</td>\n",
       "      <td>Rich</td>\n",
       "      <td>Kirsz</td>\n",
       "      <td>rkirsz3@jalbum.net</td>\n",
       "    </tr>\n",
       "    <tr>\n",
       "      <th>4</th>\n",
       "      <td>5</td>\n",
       "      <td>Carline</td>\n",
       "      <td>Kupis</td>\n",
       "      <td>ckupis4@tamu.edu</td>\n",
       "    </tr>\n",
       "  </tbody>\n",
       "</table>\n",
       "</div>"
      ],
      "text/plain": [
       "   customer_id first_name last_name                   email\n",
       "0            1     Ursola     Purdy      upurdy0@cdbaby.com\n",
       "1            2   Ruthanne    Vatini       rvatini1@fema.gov\n",
       "2            3     Reidar   Turbitt  rturbitt2@geocities.jp\n",
       "3            4       Rich     Kirsz      rkirsz3@jalbum.net\n",
       "4            5    Carline     Kupis        ckupis4@tamu.edu"
      ]
     },
     "execution_count": 968,
     "metadata": {},
     "output_type": "execute_result"
    }
   ],
   "source": [
    "# Load source data into Pandas dataframes\n",
    "customer_df = pd.read_sql(\"SELECT * FROM customer\", conn)\n",
    "customer_address_df = pd.read_sql(\"SELECT * FROM customer_address\", conn)\n",
    "cust_order_df = pd.read_sql(\"SELECT * FROM cust_order\", conn)\n",
    "address_df = pd.read_sql(\"SELECT * FROM address\", conn)\n",
    "address_status_df = pd.read_sql(\"SELECT * FROM address_status\", conn)\n",
    "country_df = pd.read_sql(\"SELECT * FROM country\", conn)\n",
    "book_df = pd.read_sql(\"SELECT * FROM book\", conn)\n",
    "book_author_df = pd.read_sql(\"SELECT * FROM book_author\", conn)\n",
    "order_df = pd.read_sql(\"SELECT * FROM cust_order\", conn)\n",
    "order_history_df = pd.read_sql(\"SELECT * FROM order_history\", conn)\n",
    "order_line_df = pd.read_sql(\"SELECT * FROM order_line\", conn)\n",
    "order_status_df = pd.read_sql(\"SELECT * FROM order_status\", conn)\n",
    "publisher_df = pd.read_sql(\"SELECT * FROM publisher\", conn)\n",
    "shipping_df = pd.read_sql(\"SELECT * FROM shipping_method\", conn)\n",
    "book_language_df = pd.read_sql(\"SELECT * FROM book_language\", conn)\n",
    "\n",
    "# Display first few rows\n",
    "customer_df.head()"
   ]
  },
  {
   "cell_type": "code",
   "execution_count": 970,
   "id": "a26572c8-063e-42c5-a359-7b562d2de67d",
   "metadata": {},
   "outputs": [
    {
     "data": {
      "text/html": [
       "<div>\n",
       "<style scoped>\n",
       "    .dataframe tbody tr th:only-of-type {\n",
       "        vertical-align: middle;\n",
       "    }\n",
       "\n",
       "    .dataframe tbody tr th {\n",
       "        vertical-align: top;\n",
       "    }\n",
       "\n",
       "    .dataframe thead th {\n",
       "        text-align: right;\n",
       "    }\n",
       "</style>\n",
       "<table border=\"1\" class=\"dataframe\">\n",
       "  <thead>\n",
       "    <tr style=\"text-align: right;\">\n",
       "      <th></th>\n",
       "      <th>address_id</th>\n",
       "      <th>street_number</th>\n",
       "      <th>street_name</th>\n",
       "      <th>city</th>\n",
       "      <th>country_id</th>\n",
       "    </tr>\n",
       "  </thead>\n",
       "  <tbody>\n",
       "    <tr>\n",
       "      <th>0</th>\n",
       "      <td>1</td>\n",
       "      <td>57</td>\n",
       "      <td>Glacier Hill Avenue</td>\n",
       "      <td>Torbat-e Jam</td>\n",
       "      <td>95</td>\n",
       "    </tr>\n",
       "    <tr>\n",
       "      <th>1</th>\n",
       "      <td>2</td>\n",
       "      <td>86</td>\n",
       "      <td>Dottie Junction</td>\n",
       "      <td>Beaumont</td>\n",
       "      <td>37</td>\n",
       "    </tr>\n",
       "    <tr>\n",
       "      <th>2</th>\n",
       "      <td>3</td>\n",
       "      <td>292</td>\n",
       "      <td>Ramsey Avenue</td>\n",
       "      <td>Cayambe</td>\n",
       "      <td>60</td>\n",
       "    </tr>\n",
       "    <tr>\n",
       "      <th>3</th>\n",
       "      <td>4</td>\n",
       "      <td>5618</td>\n",
       "      <td>Thackeray Junction</td>\n",
       "      <td>Caldas</td>\n",
       "      <td>47</td>\n",
       "    </tr>\n",
       "    <tr>\n",
       "      <th>4</th>\n",
       "      <td>5</td>\n",
       "      <td>4</td>\n",
       "      <td>2nd Park</td>\n",
       "      <td>Ngunguru</td>\n",
       "      <td>153</td>\n",
       "    </tr>\n",
       "  </tbody>\n",
       "</table>\n",
       "</div>"
      ],
      "text/plain": [
       "   address_id street_number          street_name          city  country_id\n",
       "0           1            57  Glacier Hill Avenue  Torbat-e Jam          95\n",
       "1           2            86      Dottie Junction      Beaumont          37\n",
       "2           3           292        Ramsey Avenue       Cayambe          60\n",
       "3           4          5618   Thackeray Junction        Caldas          47\n",
       "4           5             4             2nd Park      Ngunguru         153"
      ]
     },
     "execution_count": 970,
     "metadata": {},
     "output_type": "execute_result"
    }
   ],
   "source": [
    "address_df.head()"
   ]
  },
  {
   "cell_type": "code",
   "execution_count": 972,
   "id": "e6521e20-cbad-4f84-a7fe-e6a5c760959c",
   "metadata": {},
   "outputs": [
    {
     "data": {
      "text/html": [
       "<div>\n",
       "<style scoped>\n",
       "    .dataframe tbody tr th:only-of-type {\n",
       "        vertical-align: middle;\n",
       "    }\n",
       "\n",
       "    .dataframe tbody tr th {\n",
       "        vertical-align: top;\n",
       "    }\n",
       "\n",
       "    .dataframe thead th {\n",
       "        text-align: right;\n",
       "    }\n",
       "</style>\n",
       "<table border=\"1\" class=\"dataframe\">\n",
       "  <thead>\n",
       "    <tr style=\"text-align: right;\">\n",
       "      <th></th>\n",
       "      <th>address_id</th>\n",
       "      <th>street_number</th>\n",
       "      <th>street_name</th>\n",
       "      <th>city</th>\n",
       "      <th>country_id</th>\n",
       "    </tr>\n",
       "  </thead>\n",
       "  <tbody>\n",
       "    <tr>\n",
       "      <th>0</th>\n",
       "      <td>1</td>\n",
       "      <td>57</td>\n",
       "      <td>Glacier Hill Avenue</td>\n",
       "      <td>Torbat-e Jam</td>\n",
       "      <td>95</td>\n",
       "    </tr>\n",
       "    <tr>\n",
       "      <th>1</th>\n",
       "      <td>2</td>\n",
       "      <td>86</td>\n",
       "      <td>Dottie Junction</td>\n",
       "      <td>Beaumont</td>\n",
       "      <td>37</td>\n",
       "    </tr>\n",
       "    <tr>\n",
       "      <th>2</th>\n",
       "      <td>3</td>\n",
       "      <td>292</td>\n",
       "      <td>Ramsey Avenue</td>\n",
       "      <td>Cayambe</td>\n",
       "      <td>60</td>\n",
       "    </tr>\n",
       "    <tr>\n",
       "      <th>3</th>\n",
       "      <td>4</td>\n",
       "      <td>5618</td>\n",
       "      <td>Thackeray Junction</td>\n",
       "      <td>Caldas</td>\n",
       "      <td>47</td>\n",
       "    </tr>\n",
       "    <tr>\n",
       "      <th>4</th>\n",
       "      <td>5</td>\n",
       "      <td>4</td>\n",
       "      <td>2nd Park</td>\n",
       "      <td>Ngunguru</td>\n",
       "      <td>153</td>\n",
       "    </tr>\n",
       "  </tbody>\n",
       "</table>\n",
       "</div>"
      ],
      "text/plain": [
       "   address_id street_number          street_name          city  country_id\n",
       "0           1            57  Glacier Hill Avenue  Torbat-e Jam          95\n",
       "1           2            86      Dottie Junction      Beaumont          37\n",
       "2           3           292        Ramsey Avenue       Cayambe          60\n",
       "3           4          5618   Thackeray Junction        Caldas          47\n",
       "4           5             4             2nd Park      Ngunguru         153"
      ]
     },
     "execution_count": 972,
     "metadata": {},
     "output_type": "execute_result"
    }
   ],
   "source": [
    "address_df.head()"
   ]
  },
  {
   "cell_type": "code",
   "execution_count": 974,
   "id": "9a8cdc9b-29aa-496e-9d06-a94918ad043d",
   "metadata": {},
   "outputs": [
    {
     "data": {
      "text/html": [
       "<div>\n",
       "<style scoped>\n",
       "    .dataframe tbody tr th:only-of-type {\n",
       "        vertical-align: middle;\n",
       "    }\n",
       "\n",
       "    .dataframe tbody tr th {\n",
       "        vertical-align: top;\n",
       "    }\n",
       "\n",
       "    .dataframe thead th {\n",
       "        text-align: right;\n",
       "    }\n",
       "</style>\n",
       "<table border=\"1\" class=\"dataframe\">\n",
       "  <thead>\n",
       "    <tr style=\"text-align: right;\">\n",
       "      <th></th>\n",
       "      <th>publisher_id</th>\n",
       "      <th>publisher_name</th>\n",
       "    </tr>\n",
       "  </thead>\n",
       "  <tbody>\n",
       "    <tr>\n",
       "      <th>0</th>\n",
       "      <td>1</td>\n",
       "      <td>10/18</td>\n",
       "    </tr>\n",
       "    <tr>\n",
       "      <th>1</th>\n",
       "      <td>2</td>\n",
       "      <td>1st Book Library</td>\n",
       "    </tr>\n",
       "    <tr>\n",
       "      <th>2</th>\n",
       "      <td>3</td>\n",
       "      <td>1st World Library</td>\n",
       "    </tr>\n",
       "    <tr>\n",
       "      <th>3</th>\n",
       "      <td>4</td>\n",
       "      <td>A &amp; C Black (Childrens books)</td>\n",
       "    </tr>\n",
       "    <tr>\n",
       "      <th>4</th>\n",
       "      <td>5</td>\n",
       "      <td>A Harvest Book/Harcourt Inc.</td>\n",
       "    </tr>\n",
       "  </tbody>\n",
       "</table>\n",
       "</div>"
      ],
      "text/plain": [
       "   publisher_id                 publisher_name\n",
       "0             1                          10/18\n",
       "1             2               1st Book Library\n",
       "2             3              1st World Library\n",
       "3             4  A & C Black (Childrens books)\n",
       "4             5   A Harvest Book/Harcourt Inc."
      ]
     },
     "execution_count": 974,
     "metadata": {},
     "output_type": "execute_result"
    }
   ],
   "source": [
    "publisher_df.head()"
   ]
  },
  {
   "cell_type": "markdown",
   "id": "a512014c-b34a-48a7-acc1-09106bca674e",
   "metadata": {},
   "source": [
    "## Transform Data and Load into Dimension Tables"
   ]
  },
  {
   "cell_type": "markdown",
   "id": "41c5ad53-a431-4859-9fbc-069e4316b64d",
   "metadata": {},
   "source": [
    "### drop duplicates values"
   ]
  },
  {
   "cell_type": "code",
   "execution_count": 978,
   "id": "1b685a7b-58fd-474d-b47a-244e8ca66204",
   "metadata": {},
   "outputs": [],
   "source": [
    "df = df_author.drop_duplicates()"
   ]
  },
  {
   "cell_type": "markdown",
   "id": "685c7135-6285-4b92-a6c4-c4d29bd95684",
   "metadata": {},
   "source": [
    "### checking the null values"
   ]
  },
  {
   "cell_type": "code",
   "execution_count": 981,
   "id": "2852cff4-7482-4de4-8464-4ce30d152aa7",
   "metadata": {},
   "outputs": [
    {
     "data": {
      "text/plain": [
       "author_id      0\n",
       "author_name    0\n",
       "dtype: int64"
      ]
     },
     "execution_count": 981,
     "metadata": {},
     "output_type": "execute_result"
    }
   ],
   "source": [
    "df_author.isnull().sum()"
   ]
  },
  {
   "cell_type": "code",
   "execution_count": 983,
   "id": "38b6b68d-8fd1-46e0-93b1-64e61de0c956",
   "metadata": {},
   "outputs": [
    {
     "data": {
      "text/plain": [
       "language_id      0\n",
       "language_code    0\n",
       "language_name    0\n",
       "dtype: int64"
      ]
     },
     "execution_count": 983,
     "metadata": {},
     "output_type": "execute_result"
    }
   ],
   "source": [
    "book_language_df.isnull().sum()"
   ]
  },
  {
   "cell_type": "code",
   "execution_count": 985,
   "id": "20dac19c-a393-49e5-b9b0-d55d0fccda7e",
   "metadata": {},
   "outputs": [
    {
     "data": {
      "text/plain": [
       "country_id      0\n",
       "country_name    0\n",
       "dtype: int64"
      ]
     },
     "execution_count": 985,
     "metadata": {},
     "output_type": "execute_result"
    }
   ],
   "source": [
    "country_df.isnull().sum()"
   ]
  },
  {
   "cell_type": "code",
   "execution_count": 987,
   "id": "5d694aef-7476-46ba-8f4c-1dd9454750a3",
   "metadata": {},
   "outputs": [
    {
     "data": {
      "text/plain": [
       "customer_id    0\n",
       "address_id     0\n",
       "status_id      0\n",
       "dtype: int64"
      ]
     },
     "execution_count": 987,
     "metadata": {},
     "output_type": "execute_result"
    }
   ],
   "source": [
    "customer_address_df.isnull().sum()"
   ]
  },
  {
   "cell_type": "code",
   "execution_count": 989,
   "id": "baee4c59-67fa-445a-b4f9-28ab71f0f0e3",
   "metadata": {},
   "outputs": [
    {
     "data": {
      "text/plain": [
       "customer_id    0\n",
       "first_name     0\n",
       "last_name      0\n",
       "email          0\n",
       "dtype: int64"
      ]
     },
     "execution_count": 989,
     "metadata": {},
     "output_type": "execute_result"
    }
   ],
   "source": [
    "customer_df.isnull().sum()"
   ]
  },
  {
   "cell_type": "code",
   "execution_count": 991,
   "id": "3a14d805-4439-421e-9431-3d92f7054656",
   "metadata": {},
   "outputs": [
    {
     "name": "stdout",
     "output_type": "stream",
     "text": [
      "(1, 'Standard', Decimal('5.90'))\n",
      "(2, 'Priority', Decimal('8.90'))\n",
      "(3, 'Express', Decimal('11.90'))\n",
      "(4, 'International', Decimal('24.50'))\n"
     ]
    }
   ],
   "source": [
    "# Define your SQL query\n",
    "query = \"\"\"\n",
    "SELECT method_id, method_name,cost\n",
    "FROM shipping_method;\n",
    "\"\"\"\n",
    "\n",
    "# Execute the query\n",
    "cursor.execute(query)\n",
    "\n",
    "# Fetch the result\n",
    "results = cursor.fetchmany(6)\n",
    "\n",
    "# Print the results\n",
    "for row in results:\n",
    "    print(row)\n",
    "\n"
   ]
  },
  {
   "cell_type": "code",
   "execution_count": 993,
   "id": "dd9bea19-8027-4b6f-8d64-82ec967d3dbb",
   "metadata": {},
   "outputs": [],
   "source": [
    "country_dff=country_df[['country_name']]"
   ]
  },
  {
   "cell_type": "code",
   "execution_count": 995,
   "id": "65214082-5410-4cfa-abf5-7165a00a1dd5",
   "metadata": {},
   "outputs": [],
   "source": [
    "New_customer_address_status= customer_address_df[['status_id']]\n",
    "New_customer_address_customer_id = customer_address_df[['customer_id']]\n",
    "New_customer_address_address_id = customer_address_df[['address_id']]"
   ]
  },
  {
   "cell_type": "code",
   "execution_count": 997,
   "id": "aa799055-dc31-40bf-9f7c-db927f8fc8b4",
   "metadata": {},
   "outputs": [],
   "source": [
    "New_CustomerData_names = customer_df[['first_name', 'last_name', 'email' ]]\n",
    "New_CustomerData_customer_id = customer_df[['customer_id']]"
   ]
  },
  {
   "cell_type": "code",
   "execution_count": 999,
   "id": "d88b85c2-ce84-4b15-babd-18ca9c3a37fb",
   "metadata": {},
   "outputs": [],
   "source": [
    "New_countryData_name = country_df[['country_name']]\n",
    "New_countryData_country_id = country_df[['country_id']]"
   ]
  },
  {
   "cell_type": "code",
   "execution_count": 1001,
   "id": "6c8dd40a-519d-4d79-aa15-8b798f3a57b7",
   "metadata": {},
   "outputs": [
    {
     "data": {
      "text/html": [
       "<div>\n",
       "<style scoped>\n",
       "    .dataframe tbody tr th:only-of-type {\n",
       "        vertical-align: middle;\n",
       "    }\n",
       "\n",
       "    .dataframe tbody tr th {\n",
       "        vertical-align: top;\n",
       "    }\n",
       "\n",
       "    .dataframe thead th {\n",
       "        text-align: right;\n",
       "    }\n",
       "</style>\n",
       "<table border=\"1\" class=\"dataframe\">\n",
       "  <thead>\n",
       "    <tr style=\"text-align: right;\">\n",
       "      <th></th>\n",
       "      <th>status_id</th>\n",
       "    </tr>\n",
       "  </thead>\n",
       "  <tbody>\n",
       "    <tr>\n",
       "      <th>0</th>\n",
       "      <td>1</td>\n",
       "    </tr>\n",
       "    <tr>\n",
       "      <th>1</th>\n",
       "      <td>1</td>\n",
       "    </tr>\n",
       "    <tr>\n",
       "      <th>2</th>\n",
       "      <td>1</td>\n",
       "    </tr>\n",
       "    <tr>\n",
       "      <th>3</th>\n",
       "      <td>1</td>\n",
       "    </tr>\n",
       "    <tr>\n",
       "      <th>4</th>\n",
       "      <td>1</td>\n",
       "    </tr>\n",
       "    <tr>\n",
       "      <th>...</th>\n",
       "      <td>...</td>\n",
       "    </tr>\n",
       "    <tr>\n",
       "      <th>3345</th>\n",
       "      <td>1</td>\n",
       "    </tr>\n",
       "    <tr>\n",
       "      <th>3346</th>\n",
       "      <td>1</td>\n",
       "    </tr>\n",
       "    <tr>\n",
       "      <th>3347</th>\n",
       "      <td>1</td>\n",
       "    </tr>\n",
       "    <tr>\n",
       "      <th>3348</th>\n",
       "      <td>1</td>\n",
       "    </tr>\n",
       "    <tr>\n",
       "      <th>3349</th>\n",
       "      <td>1</td>\n",
       "    </tr>\n",
       "  </tbody>\n",
       "</table>\n",
       "<p>3350 rows × 1 columns</p>\n",
       "</div>"
      ],
      "text/plain": [
       "      status_id\n",
       "0             1\n",
       "1             1\n",
       "2             1\n",
       "3             1\n",
       "4             1\n",
       "...         ...\n",
       "3345          1\n",
       "3346          1\n",
       "3347          1\n",
       "3348          1\n",
       "3349          1\n",
       "\n",
       "[3350 rows x 1 columns]"
      ]
     },
     "execution_count": 1001,
     "metadata": {},
     "output_type": "execute_result"
    }
   ],
   "source": [
    "NewaddressData_name = address_df[['street_name', 'city']]\n",
    "NewaddressData_address_id = address_df[['address_id']]\n",
    "New_customer_address_status"
   ]
  },
  {
   "cell_type": "markdown",
   "id": "e011bb9c-1a43-4dd4-8482-9e854b45d0bf",
   "metadata": {},
   "source": [
    "#### Rename and concatenate columns of DimCustomerData"
   ]
  },
  {
   "cell_type": "code",
   "execution_count": 1004,
   "id": "2753bca0-d6b1-457a-bbc4-e63fa6e8271b",
   "metadata": {},
   "outputs": [
    {
     "data": {
      "text/html": [
       "<div>\n",
       "<style scoped>\n",
       "    .dataframe tbody tr th:only-of-type {\n",
       "        vertical-align: middle;\n",
       "    }\n",
       "\n",
       "    .dataframe tbody tr th {\n",
       "        vertical-align: top;\n",
       "    }\n",
       "\n",
       "    .dataframe thead th {\n",
       "        text-align: right;\n",
       "    }\n",
       "</style>\n",
       "<table border=\"1\" class=\"dataframe\">\n",
       "  <thead>\n",
       "    <tr style=\"text-align: right;\">\n",
       "      <th></th>\n",
       "      <th>customer_id_BK</th>\n",
       "      <th>address_id_BK</th>\n",
       "      <th>country_id_BK</th>\n",
       "      <th>status_id_BK</th>\n",
       "      <th>first_name</th>\n",
       "      <th>last_name</th>\n",
       "      <th>email</th>\n",
       "      <th>country_name</th>\n",
       "      <th>street_name</th>\n",
       "      <th>city</th>\n",
       "      <th>address_status</th>\n",
       "      <th>source_system_code</th>\n",
       "      <th>start_date</th>\n",
       "      <th>end_date</th>\n",
       "      <th>is_current</th>\n",
       "    </tr>\n",
       "  </thead>\n",
       "  <tbody>\n",
       "    <tr>\n",
       "      <th>0</th>\n",
       "      <td>2</td>\n",
       "      <td>52</td>\n",
       "      <td>1</td>\n",
       "      <td>1</td>\n",
       "      <td>Ursola</td>\n",
       "      <td>Purdy</td>\n",
       "      <td>upurdy0@cdbaby.com</td>\n",
       "      <td>Afghanistan</td>\n",
       "      <td>Glacier Hill Avenue</td>\n",
       "      <td>Torbat-e Jam</td>\n",
       "      <td>1</td>\n",
       "      <td>Store_booksDB</td>\n",
       "      <td>2022-12-31</td>\n",
       "      <td>2025-03-29 19:49:19.387157</td>\n",
       "      <td>1</td>\n",
       "    </tr>\n",
       "    <tr>\n",
       "      <th>1</th>\n",
       "      <td>2</td>\n",
       "      <td>346</td>\n",
       "      <td>2</td>\n",
       "      <td>2</td>\n",
       "      <td>Ruthanne</td>\n",
       "      <td>Vatini</td>\n",
       "      <td>rvatini1@fema.gov</td>\n",
       "      <td>Netherlands Antilles</td>\n",
       "      <td>Dottie Junction</td>\n",
       "      <td>Beaumont</td>\n",
       "      <td>1</td>\n",
       "      <td>Store_booksDB</td>\n",
       "      <td>2022-12-31</td>\n",
       "      <td>2025-03-29 19:49:19.387157</td>\n",
       "      <td>1</td>\n",
       "    </tr>\n",
       "    <tr>\n",
       "      <th>2</th>\n",
       "      <td>4</td>\n",
       "      <td>150</td>\n",
       "      <td>3</td>\n",
       "      <td>3</td>\n",
       "      <td>Reidar</td>\n",
       "      <td>Turbitt</td>\n",
       "      <td>rturbitt2@geocities.jp</td>\n",
       "      <td>Albania</td>\n",
       "      <td>Ramsey Avenue</td>\n",
       "      <td>Cayambe</td>\n",
       "      <td>1</td>\n",
       "      <td>Store_booksDB</td>\n",
       "      <td>2022-12-31</td>\n",
       "      <td>2025-03-29 19:49:19.387157</td>\n",
       "      <td>1</td>\n",
       "    </tr>\n",
       "    <tr>\n",
       "      <th>3</th>\n",
       "      <td>4</td>\n",
       "      <td>383</td>\n",
       "      <td>4</td>\n",
       "      <td>4</td>\n",
       "      <td>Rich</td>\n",
       "      <td>Kirsz</td>\n",
       "      <td>rkirsz3@jalbum.net</td>\n",
       "      <td>Algeria</td>\n",
       "      <td>Thackeray Junction</td>\n",
       "      <td>Caldas</td>\n",
       "      <td>1</td>\n",
       "      <td>Store_booksDB</td>\n",
       "      <td>2022-12-31</td>\n",
       "      <td>2025-03-29 19:49:19.387157</td>\n",
       "      <td>1</td>\n",
       "    </tr>\n",
       "    <tr>\n",
       "      <th>4</th>\n",
       "      <td>4</td>\n",
       "      <td>479</td>\n",
       "      <td>5</td>\n",
       "      <td>5</td>\n",
       "      <td>Carline</td>\n",
       "      <td>Kupis</td>\n",
       "      <td>ckupis4@tamu.edu</td>\n",
       "      <td>Andorra</td>\n",
       "      <td>2nd Park</td>\n",
       "      <td>Ngunguru</td>\n",
       "      <td>1</td>\n",
       "      <td>Store_booksDB</td>\n",
       "      <td>2022-12-31</td>\n",
       "      <td>2025-03-29 19:49:19.387157</td>\n",
       "      <td>1</td>\n",
       "    </tr>\n",
       "    <tr>\n",
       "      <th>...</th>\n",
       "      <td>...</td>\n",
       "      <td>...</td>\n",
       "      <td>...</td>\n",
       "      <td>...</td>\n",
       "      <td>...</td>\n",
       "      <td>...</td>\n",
       "      <td>...</td>\n",
       "      <td>...</td>\n",
       "      <td>...</td>\n",
       "      <td>...</td>\n",
       "      <td>...</td>\n",
       "      <td>...</td>\n",
       "      <td>...</td>\n",
       "      <td>...</td>\n",
       "      <td>...</td>\n",
       "    </tr>\n",
       "    <tr>\n",
       "      <th>227</th>\n",
       "      <td>152</td>\n",
       "      <td>522</td>\n",
       "      <td>228</td>\n",
       "      <td>228</td>\n",
       "      <td>Padriac</td>\n",
       "      <td>Karolyi</td>\n",
       "      <td>pkarolyi6b@mtv.com</td>\n",
       "      <td>Yugoslavia</td>\n",
       "      <td>Thompson Terrace</td>\n",
       "      <td>Velikiye Luki</td>\n",
       "      <td>1</td>\n",
       "      <td>Store_booksDB</td>\n",
       "      <td>2022-12-31</td>\n",
       "      <td>2025-03-29 19:49:19.387157</td>\n",
       "      <td>1</td>\n",
       "    </tr>\n",
       "    <tr>\n",
       "      <th>228</th>\n",
       "      <td>153</td>\n",
       "      <td>699</td>\n",
       "      <td>229</td>\n",
       "      <td>229</td>\n",
       "      <td>Carrie</td>\n",
       "      <td>Arran</td>\n",
       "      <td>carran6c@dion.ne.jp</td>\n",
       "      <td>Zambia</td>\n",
       "      <td>Saint Paul Park</td>\n",
       "      <td>Izumo</td>\n",
       "      <td>1</td>\n",
       "      <td>Store_booksDB</td>\n",
       "      <td>2022-12-31</td>\n",
       "      <td>2025-03-29 19:49:19.387157</td>\n",
       "      <td>1</td>\n",
       "    </tr>\n",
       "    <tr>\n",
       "      <th>229</th>\n",
       "      <td>154</td>\n",
       "      <td>626</td>\n",
       "      <td>230</td>\n",
       "      <td>230</td>\n",
       "      <td>Marlane</td>\n",
       "      <td>Graveson</td>\n",
       "      <td>mgraveson6d@slate.com</td>\n",
       "      <td>Zimbabwe</td>\n",
       "      <td>Kinsman Point</td>\n",
       "      <td>Heqiao</td>\n",
       "      <td>1</td>\n",
       "      <td>Store_booksDB</td>\n",
       "      <td>2022-12-31</td>\n",
       "      <td>2025-03-29 19:49:19.387157</td>\n",
       "      <td>1</td>\n",
       "    </tr>\n",
       "    <tr>\n",
       "      <th>230</th>\n",
       "      <td>154</td>\n",
       "      <td>849</td>\n",
       "      <td>231</td>\n",
       "      <td>231</td>\n",
       "      <td>Pavla</td>\n",
       "      <td>Marzello</td>\n",
       "      <td>pmarzello6e@oracle.com</td>\n",
       "      <td>Singapore</td>\n",
       "      <td>Carberry Parkway</td>\n",
       "      <td>Novo Hamburgo</td>\n",
       "      <td>1</td>\n",
       "      <td>Store_booksDB</td>\n",
       "      <td>2022-12-31</td>\n",
       "      <td>2025-03-29 19:49:19.387157</td>\n",
       "      <td>1</td>\n",
       "    </tr>\n",
       "    <tr>\n",
       "      <th>231</th>\n",
       "      <td>156</td>\n",
       "      <td>31</td>\n",
       "      <td>232</td>\n",
       "      <td>232</td>\n",
       "      <td>Marti</td>\n",
       "      <td>Cassely</td>\n",
       "      <td>mcassely6f@japanpost.jp</td>\n",
       "      <td>French Polynesia</td>\n",
       "      <td>Utah Circle</td>\n",
       "      <td>Bilhorod-Dnistrovs’kyy</td>\n",
       "      <td>2</td>\n",
       "      <td>Store_booksDB</td>\n",
       "      <td>2022-12-31</td>\n",
       "      <td>2025-03-29 19:49:19.387157</td>\n",
       "      <td>1</td>\n",
       "    </tr>\n",
       "  </tbody>\n",
       "</table>\n",
       "<p>232 rows × 15 columns</p>\n",
       "</div>"
      ],
      "text/plain": [
       "     customer_id_BK  address_id_BK  country_id_BK  status_id_BK first_name  \\\n",
       "0                 2             52              1             1     Ursola   \n",
       "1                 2            346              2             2   Ruthanne   \n",
       "2                 4            150              3             3     Reidar   \n",
       "3                 4            383              4             4       Rich   \n",
       "4                 4            479              5             5    Carline   \n",
       "..              ...            ...            ...           ...        ...   \n",
       "227             152            522            228           228    Padriac   \n",
       "228             153            699            229           229     Carrie   \n",
       "229             154            626            230           230    Marlane   \n",
       "230             154            849            231           231      Pavla   \n",
       "231             156             31            232           232      Marti   \n",
       "\n",
       "    last_name                    email          country_name  \\\n",
       "0       Purdy       upurdy0@cdbaby.com           Afghanistan   \n",
       "1      Vatini        rvatini1@fema.gov  Netherlands Antilles   \n",
       "2     Turbitt   rturbitt2@geocities.jp               Albania   \n",
       "3       Kirsz       rkirsz3@jalbum.net               Algeria   \n",
       "4       Kupis         ckupis4@tamu.edu               Andorra   \n",
       "..        ...                      ...                   ...   \n",
       "227   Karolyi       pkarolyi6b@mtv.com            Yugoslavia   \n",
       "228     Arran      carran6c@dion.ne.jp                Zambia   \n",
       "229  Graveson    mgraveson6d@slate.com              Zimbabwe   \n",
       "230  Marzello   pmarzello6e@oracle.com             Singapore   \n",
       "231   Cassely  mcassely6f@japanpost.jp      French Polynesia   \n",
       "\n",
       "             street_name                    city  address_status  \\\n",
       "0    Glacier Hill Avenue            Torbat-e Jam               1   \n",
       "1        Dottie Junction                Beaumont               1   \n",
       "2          Ramsey Avenue                 Cayambe               1   \n",
       "3     Thackeray Junction                  Caldas               1   \n",
       "4               2nd Park                Ngunguru               1   \n",
       "..                   ...                     ...             ...   \n",
       "227     Thompson Terrace           Velikiye Luki               1   \n",
       "228      Saint Paul Park                   Izumo               1   \n",
       "229        Kinsman Point                  Heqiao               1   \n",
       "230     Carberry Parkway           Novo Hamburgo               1   \n",
       "231          Utah Circle  Bilhorod-Dnistrovs’kyy               2   \n",
       "\n",
       "    source_system_code start_date                   end_date  is_current  \n",
       "0        Store_booksDB 2022-12-31 2025-03-29 19:49:19.387157           1  \n",
       "1        Store_booksDB 2022-12-31 2025-03-29 19:49:19.387157           1  \n",
       "2        Store_booksDB 2022-12-31 2025-03-29 19:49:19.387157           1  \n",
       "3        Store_booksDB 2022-12-31 2025-03-29 19:49:19.387157           1  \n",
       "4        Store_booksDB 2022-12-31 2025-03-29 19:49:19.387157           1  \n",
       "..                 ...        ...                        ...         ...  \n",
       "227      Store_booksDB 2022-12-31 2025-03-29 19:49:19.387157           1  \n",
       "228      Store_booksDB 2022-12-31 2025-03-29 19:49:19.387157           1  \n",
       "229      Store_booksDB 2022-12-31 2025-03-29 19:49:19.387157           1  \n",
       "230      Store_booksDB 2022-12-31 2025-03-29 19:49:19.387157           1  \n",
       "231      Store_booksDB 2022-12-31 2025-03-29 19:49:19.387157           1  \n",
       "\n",
       "[232 rows x 15 columns]"
      ]
     },
     "execution_count": 1004,
     "metadata": {},
     "output_type": "execute_result"
    }
   ],
   "source": [
    "current_date = datetime.now()\n",
    "\n",
    "New_customer_address_customer_id = New_customer_address_customer_id.rename(columns={'customer_id':'customer_id_BK'})\n",
    "New_customer_address_address_id  = New_customer_address_address_id .rename(columns={'address_id':'address_id_BK'})\n",
    "New_countryData_country_id = New_countryData_country_id.rename(columns={'country_id':'country_id_BK'})\n",
    "NewaddressData_address_id =NewaddressData_address_id.rename(columns={'address_id':'status_id_BK'})\n",
    "New_customer_address_status = New_customer_address_status.rename(columns={'status_id':'address_status'})\n",
    "\n",
    "\n",
    "DimCustomerData = pd.concat([\n",
    "                         New_customer_address_customer_id,                        \n",
    "                         New_customer_address_address_id ,                         \n",
    "                         New_countryData_country_id,                         \n",
    "                         NewaddressData_address_id,\n",
    "                         # New_customer_address_status,\n",
    "                         New_CustomerData_names,\n",
    "                         New_countryData_name,\n",
    "                         NewaddressData_name, \n",
    "                         New_customer_address_status\n",
    "                        ], \n",
    "                        axis=1, join='inner')\n",
    "DimCustomerData['source_system_code'] = 'Store_booksDB'\n",
    "DimCustomerData['start_date'] = pd.to_datetime('2022-12-31')\n",
    "DimCustomerData['end_date'] = current_date \n",
    "DimCustomerData['is_current'] = 1\n",
    "\n",
    "DimCustomerData"
   ]
  },
  {
   "cell_type": "markdown",
   "id": "7dbb1b35-33b3-4b7b-b84f-a53afdf8ad39",
   "metadata": {},
   "source": [
    "### Loading Data to DimCustomer"
   ]
  },
  {
   "cell_type": "code",
   "execution_count": 1007,
   "id": "cf15f434-a47c-4c15-bbb9-e60c94842c33",
   "metadata": {},
   "outputs": [
    {
     "name": "stdout",
     "output_type": "stream",
     "text": [
      "Data inserted successfully into dbo.DimCustomer table.\n"
     ]
    }
   ],
   "source": [
    "insert_query = \"\"\"INSERT INTO DimCustomer (customer_id_BK, address_id_BK, country_id_BK, status_id_BK, first_name, last_name, email, \n",
    "                        country_name, street_name, city, address_status, source_system_code, start_date, end_date, is_current\n",
    "                        ) \n",
    "                        VALUES \n",
    "                        (?, ?, ?, ?, ?, ?, ?, ?, ?, ?, ?, ?, ?, ?, ?)\"\"\"\n",
    "\n",
    "for index, row in DimCustomerData.iterrows():\n",
    "    cursor1.execute(insert_query, (\n",
    "        row['customer_id_BK'],\n",
    "        row['address_id_BK'],\n",
    "        row['country_id_BK'],\n",
    "        row['status_id_BK'],\n",
    "        row['first_name'],\n",
    "        row['last_name'],\n",
    "        row['email'],\n",
    "        row['country_name'],\n",
    "        row['street_name'],\n",
    "        row['city'],\n",
    "        row['address_status'],\n",
    "        row['source_system_code'],\n",
    "        row['start_date'],\n",
    "        row['end_date'],\n",
    "        row['is_current']\n",
    "    ))\n",
    "conn1.commit()\n",
    "\n",
    "\n",
    "print(\"Data inserted successfully into dbo.DimCustomer table.\")"
   ]
  },
  {
   "cell_type": "markdown",
   "id": "4b1c5a46-58ec-4d25-9f64-96f704e69ed5",
   "metadata": {},
   "source": [
    "### Extract book Data including end_date column"
   ]
  },
  {
   "cell_type": "code",
   "execution_count": 1010,
   "id": "789816c3-b472-46a6-9e69-1a2eb249522b",
   "metadata": {},
   "outputs": [
    {
     "name": "stderr",
     "output_type": "stream",
     "text": [
      "C:\\Users\\niyom\\AppData\\Local\\Temp\\ipykernel_12968\\1191128488.py:27: UserWarning: pandas only supports SQLAlchemy connectable (engine/connection) or database string URI or sqlite3 DBAPI2 connection. Other DBAPI2 objects are not tested. Please consider using SQLAlchemy.\n",
      "  book_df = pd.read_sql(book_query, conn)\n"
     ]
    },
    {
     "name": "stdout",
     "output_type": "stream",
     "text": [
      "Extracted Book Data with end_date column:\n"
     ]
    },
    {
     "data": {
      "text/html": [
       "<div>\n",
       "<style scoped>\n",
       "    .dataframe tbody tr th:only-of-type {\n",
       "        vertical-align: middle;\n",
       "    }\n",
       "\n",
       "    .dataframe tbody tr th {\n",
       "        vertical-align: top;\n",
       "    }\n",
       "\n",
       "    .dataframe thead th {\n",
       "        text-align: right;\n",
       "    }\n",
       "</style>\n",
       "<table border=\"1\" class=\"dataframe\">\n",
       "  <thead>\n",
       "    <tr style=\"text-align: right;\">\n",
       "      <th></th>\n",
       "      <th>book_id_SC</th>\n",
       "      <th>book_id</th>\n",
       "      <th>language_id</th>\n",
       "      <th>author_id</th>\n",
       "      <th>publisher_id</th>\n",
       "      <th>isbn13</th>\n",
       "      <th>publication_date</th>\n",
       "      <th>num_pages</th>\n",
       "      <th>language_name</th>\n",
       "      <th>publisher_name</th>\n",
       "      <th>author_name</th>\n",
       "      <th>source_system_code</th>\n",
       "      <th>start_date</th>\n",
       "      <th>end_date</th>\n",
       "      <th>is_current</th>\n",
       "    </tr>\n",
       "  </thead>\n",
       "  <tbody>\n",
       "    <tr>\n",
       "      <th>0</th>\n",
       "      <td>1</td>\n",
       "      <td>1</td>\n",
       "      <td>2</td>\n",
       "      <td>2778</td>\n",
       "      <td>1010</td>\n",
       "      <td>8987059752</td>\n",
       "      <td>1996-09-01</td>\n",
       "      <td>276</td>\n",
       "      <td>United States English</td>\n",
       "      <td>Ignatius Press</td>\n",
       "      <td>Fulton J. Sheen</td>\n",
       "      <td>GRAVITY_BOOKS</td>\n",
       "      <td>2025-03-29 19:49:22.600</td>\n",
       "      <td>None</td>\n",
       "      <td>1</td>\n",
       "    </tr>\n",
       "    <tr>\n",
       "      <th>1</th>\n",
       "      <td>2</td>\n",
       "      <td>2</td>\n",
       "      <td>1</td>\n",
       "      <td>5049</td>\n",
       "      <td>1967</td>\n",
       "      <td>20049130001</td>\n",
       "      <td>2004-10-04</td>\n",
       "      <td>352</td>\n",
       "      <td>English</td>\n",
       "      <td>Thomas Nelson</td>\n",
       "      <td>Larry Burkett</td>\n",
       "      <td>GRAVITY_BOOKS</td>\n",
       "      <td>2025-03-29 19:49:22.600</td>\n",
       "      <td>None</td>\n",
       "      <td>1</td>\n",
       "    </tr>\n",
       "  </tbody>\n",
       "</table>\n",
       "</div>"
      ],
      "text/plain": [
       "   book_id_SC  book_id  language_id  author_id  publisher_id       isbn13  \\\n",
       "0           1        1            2       2778          1010   8987059752   \n",
       "1           2        2            1       5049          1967  20049130001   \n",
       "\n",
       "  publication_date  num_pages          language_name  publisher_name  \\\n",
       "0       1996-09-01        276  United States English  Ignatius Press   \n",
       "1       2004-10-04        352                English   Thomas Nelson   \n",
       "\n",
       "       author_name source_system_code              start_date end_date  \\\n",
       "0  Fulton J. Sheen      GRAVITY_BOOKS 2025-03-29 19:49:22.600     None   \n",
       "1    Larry Burkett      GRAVITY_BOOKS 2025-03-29 19:49:22.600     None   \n",
       "\n",
       "   is_current  \n",
       "0           1  \n",
       "1           1  "
      ]
     },
     "metadata": {},
     "output_type": "display_data"
    }
   ],
   "source": [
    "# SQL Query to extract book data with all related information including end_date\n",
    "book_query = \"\"\"\n",
    "SELECT \n",
    "    ROW_NUMBER() OVER (ORDER BY b.book_id) AS book_id_SC,\n",
    "    b.book_id,\n",
    "    b.language_id,\n",
    "    ba.author_id,\n",
    "    b.publisher_id,\n",
    "    b.isbn13,\n",
    "    b.publication_date,\n",
    "    b.num_pages,\n",
    "    bl.language_name,\n",
    "    p.publisher_name,\n",
    "    a.author_name,\n",
    "    'GRAVITY_BOOKS' AS source_system_code,\n",
    "    GETDATE() AS start_date,\n",
    "    NULL AS end_date,  -- Added end_date column initialized as NULL for current records\n",
    "    1 AS is_current\n",
    "FROM book b\n",
    "JOIN book_author ba ON b.book_id = ba.book_id\n",
    "JOIN author a ON ba.author_id = a.author_id\n",
    "JOIN publisher p ON b.publisher_id = p.publisher_id\n",
    "JOIN book_language bl ON b.language_id = bl.language_id;\n",
    "\"\"\"\n",
    "\n",
    "# Extract Data into DataFrame\n",
    "book_df = pd.read_sql(book_query, conn)\n",
    "\n",
    "# Display Extracted Data\n",
    "print(\"Extracted Book Data with end_date column:\")\n",
    "display(book_df.head(2))\n",
    "\n",
    "# Verify column names and structure\n",
    "#print(\"\\nDataFrame Columns:\")\n",
    "#print(book_df.columns.tolist())"
   ]
  },
  {
   "cell_type": "markdown",
   "id": "37f73e53-821c-449e-bbab-cb3792fa7c54",
   "metadata": {},
   "source": [
    "### Selection of columns and Rename  from book_df "
   ]
  },
  {
   "cell_type": "code",
   "execution_count": 1013,
   "id": "0b39d338-288b-4e80-a262-c85121a06f97",
   "metadata": {},
   "outputs": [
    {
     "name": "stdout",
     "output_type": "stream",
     "text": [
      "Transformed Book Data:\n"
     ]
    },
    {
     "data": {
      "text/html": [
       "<div>\n",
       "<style scoped>\n",
       "    .dataframe tbody tr th:only-of-type {\n",
       "        vertical-align: middle;\n",
       "    }\n",
       "\n",
       "    .dataframe tbody tr th {\n",
       "        vertical-align: top;\n",
       "    }\n",
       "\n",
       "    .dataframe thead th {\n",
       "        text-align: right;\n",
       "    }\n",
       "</style>\n",
       "<table border=\"1\" class=\"dataframe\">\n",
       "  <thead>\n",
       "    <tr style=\"text-align: right;\">\n",
       "      <th></th>\n",
       "      <th>book_id_SC</th>\n",
       "      <th>book_id_bk</th>\n",
       "      <th>language_id_BK</th>\n",
       "      <th>author_id_BK</th>\n",
       "      <th>publisher_id_BK</th>\n",
       "      <th>isbn13</th>\n",
       "      <th>publication_date</th>\n",
       "      <th>num_pages</th>\n",
       "      <th>language_name</th>\n",
       "      <th>publisher_name</th>\n",
       "      <th>author_name</th>\n",
       "      <th>source_system_code</th>\n",
       "      <th>start_date</th>\n",
       "      <th>end_date</th>\n",
       "      <th>is_current</th>\n",
       "    </tr>\n",
       "  </thead>\n",
       "  <tbody>\n",
       "    <tr>\n",
       "      <th>0</th>\n",
       "      <td>1</td>\n",
       "      <td>1</td>\n",
       "      <td>2</td>\n",
       "      <td>2778</td>\n",
       "      <td>1010</td>\n",
       "      <td>8987059752</td>\n",
       "      <td>1996-09-01</td>\n",
       "      <td>276</td>\n",
       "      <td>United States English</td>\n",
       "      <td>Ignatius Press</td>\n",
       "      <td>Fulton J. Sheen</td>\n",
       "      <td>GRAVITY_BOOKS</td>\n",
       "      <td>2022-12-31</td>\n",
       "      <td>2025-03-29 19:49:19.387157</td>\n",
       "      <td>1</td>\n",
       "    </tr>\n",
       "    <tr>\n",
       "      <th>1</th>\n",
       "      <td>2</td>\n",
       "      <td>2</td>\n",
       "      <td>1</td>\n",
       "      <td>5049</td>\n",
       "      <td>1967</td>\n",
       "      <td>20049130001</td>\n",
       "      <td>2004-10-04</td>\n",
       "      <td>352</td>\n",
       "      <td>English</td>\n",
       "      <td>Thomas Nelson</td>\n",
       "      <td>Larry Burkett</td>\n",
       "      <td>GRAVITY_BOOKS</td>\n",
       "      <td>2022-12-31</td>\n",
       "      <td>2025-03-29 19:49:19.387157</td>\n",
       "      <td>1</td>\n",
       "    </tr>\n",
       "    <tr>\n",
       "      <th>2</th>\n",
       "      <td>3</td>\n",
       "      <td>3</td>\n",
       "      <td>1</td>\n",
       "      <td>4902</td>\n",
       "      <td>1967</td>\n",
       "      <td>23755004321</td>\n",
       "      <td>2003-03-11</td>\n",
       "      <td>128</td>\n",
       "      <td>English</td>\n",
       "      <td>Thomas Nelson</td>\n",
       "      <td>Kenneth H. Blanchard</td>\n",
       "      <td>GRAVITY_BOOKS</td>\n",
       "      <td>2022-12-31</td>\n",
       "      <td>2025-03-29 19:49:19.387157</td>\n",
       "      <td>1</td>\n",
       "    </tr>\n",
       "    <tr>\n",
       "      <th>3</th>\n",
       "      <td>4</td>\n",
       "      <td>4</td>\n",
       "      <td>1</td>\n",
       "      <td>8651</td>\n",
       "      <td>1978</td>\n",
       "      <td>34406054602</td>\n",
       "      <td>1999-09-01</td>\n",
       "      <td>168</td>\n",
       "      <td>English</td>\n",
       "      <td>Time Life Medical</td>\n",
       "      <td>Time-Life Books</td>\n",
       "      <td>GRAVITY_BOOKS</td>\n",
       "      <td>2022-12-31</td>\n",
       "      <td>2025-03-29 19:49:19.387157</td>\n",
       "      <td>1</td>\n",
       "    </tr>\n",
       "    <tr>\n",
       "      <th>4</th>\n",
       "      <td>5</td>\n",
       "      <td>5</td>\n",
       "      <td>1</td>\n",
       "      <td>8904</td>\n",
       "      <td>416</td>\n",
       "      <td>49086007763</td>\n",
       "      <td>1983-12-29</td>\n",
       "      <td>80</td>\n",
       "      <td>English</td>\n",
       "      <td>Cliffs Notes</td>\n",
       "      <td>W. John Campbell</td>\n",
       "      <td>GRAVITY_BOOKS</td>\n",
       "      <td>2022-12-31</td>\n",
       "      <td>2025-03-29 19:49:19.387157</td>\n",
       "      <td>1</td>\n",
       "    </tr>\n",
       "  </tbody>\n",
       "</table>\n",
       "</div>"
      ],
      "text/plain": [
       "   book_id_SC  book_id_bk  language_id_BK  author_id_BK  publisher_id_BK  \\\n",
       "0           1           1               2          2778             1010   \n",
       "1           2           2               1          5049             1967   \n",
       "2           3           3               1          4902             1967   \n",
       "3           4           4               1          8651             1978   \n",
       "4           5           5               1          8904              416   \n",
       "\n",
       "        isbn13 publication_date  num_pages          language_name  \\\n",
       "0   8987059752       1996-09-01        276  United States English   \n",
       "1  20049130001       2004-10-04        352                English   \n",
       "2  23755004321       2003-03-11        128                English   \n",
       "3  34406054602       1999-09-01        168                English   \n",
       "4  49086007763       1983-12-29         80                English   \n",
       "\n",
       "      publisher_name           author_name source_system_code start_date  \\\n",
       "0     Ignatius Press       Fulton J. Sheen      GRAVITY_BOOKS 2022-12-31   \n",
       "1      Thomas Nelson         Larry Burkett      GRAVITY_BOOKS 2022-12-31   \n",
       "2      Thomas Nelson  Kenneth H. Blanchard      GRAVITY_BOOKS 2022-12-31   \n",
       "3  Time Life Medical       Time-Life Books      GRAVITY_BOOKS 2022-12-31   \n",
       "4       Cliffs Notes      W. John Campbell      GRAVITY_BOOKS 2022-12-31   \n",
       "\n",
       "                    end_date  is_current  \n",
       "0 2025-03-29 19:49:19.387157           1  \n",
       "1 2025-03-29 19:49:19.387157           1  \n",
       "2 2025-03-29 19:49:19.387157           1  \n",
       "3 2025-03-29 19:49:19.387157           1  \n",
       "4 2025-03-29 19:49:19.387157           1  "
      ]
     },
     "metadata": {},
     "output_type": "display_data"
    },
    {
     "name": "stdout",
     "output_type": "stream",
     "text": [
      "\n",
      "DataFrame Columns:\n",
      "['book_id_SC', 'book_id_bk', 'language_id_BK', 'author_id_BK', 'publisher_id_BK', 'isbn13', 'publication_date', 'num_pages', 'language_name', 'publisher_name', 'author_name', 'source_system_code', 'start_date', 'end_date', 'is_current']\n"
     ]
    }
   ],
   "source": [
    "# Transform book DataFrame to match shipping method structure\n",
    "book = book_df[['book_id', 'language_id', 'author_id', 'publisher_id', 'isbn13', \n",
    "                'publication_date', 'num_pages', 'language_name', 'publisher_name', \n",
    "                'author_name', 'source_system_code']].copy()\n",
    "\n",
    "# Rename columns to follow your naming convention\n",
    "book = book.rename(columns={\n",
    "    'book_id': 'book_id_bk',\n",
    "    'language_id': 'language_id_BK',\n",
    "    'author_id': 'author_id_BK',\n",
    "    'publisher_id': 'publisher_id_BK',\n",
    "    'isbn13': 'isbn13',\n",
    "    'publication_date': 'publication_date',\n",
    "    'num_pages': 'num_pages',\n",
    "    'language_name': 'language_name',\n",
    "    'publisher_name': 'publisher_name',\n",
    "    'author_name': 'author_name',\n",
    "    'source_system_code': 'source_system_code'\n",
    "})\n",
    "\n",
    "# Add the additional columns to match your book method query structure\n",
    "book['book_id_SC'] = book.index + 1  # Create sequential ID like ROW_NUMBER()\n",
    "book['start_date'] = pd.to_datetime('2022-12-31')\n",
    "book['end_date'] = current_date \n",
    "book['is_current'] = 1\n",
    "\n",
    "# Reorder columns to match your expected structure\n",
    "book = book[['book_id_SC', 'book_id_bk', 'language_id_BK', 'author_id_BK', 'publisher_id_BK',\n",
    "             'isbn13', 'publication_date', 'num_pages', 'language_name', 'publisher_name',\n",
    "             'author_name', 'source_system_code', 'start_date', 'end_date', 'is_current']]\n",
    "\n",
    "# Display the transformed DataFrame\n",
    "print(\"Transformed Book Data:\")\n",
    "display(book.head())\n",
    "\n",
    "# Verify column names and structure\n",
    "print(\"\\nDataFrame Columns:\")\n",
    "print(book.columns.tolist())"
   ]
  },
  {
   "cell_type": "markdown",
   "id": "d7d3cb5f-aa36-4acd-b88b-8059736e9e1d",
   "metadata": {},
   "source": [
    "### Load Data into DimBook"
   ]
  },
  {
   "cell_type": "code",
   "execution_count": 1016,
   "id": "c50d7da8-9cbf-470a-b4d1-37df819b5ee4",
   "metadata": {},
   "outputs": [],
   "source": [
    "# Rename the column in your DataFrame to match the database\n",
    "book = book.rename(columns={'book_id_SC': 'book_id_SK'})\n",
    "\n",
    "# Then proceed with your MERGE operation\n",
    "try:\n",
    "    cursor1.execute(\"SET IDENTITY_INSERT DimBook ON\")\n",
    "    \n",
    "    merge_query = \"\"\"\n",
    "    MERGE INTO DimBook AS target\n",
    "    USING (VALUES (?, ?, ?, ?, ?, ?, ?, ?, ?, ?, ?, ?, ?, ?, ?)) \n",
    "    AS source(book_id_SK, book_id_BK, language_id_BK, author_id_BK, publisher_id_BK, \n",
    "             isbn13, publication_date, num_pages, language_name, publisher_name, \n",
    "             author_name, source_system_code, start_date, end_date, is_current)\n",
    "    ON target.book_id_SK = source.book_id_SK\n",
    "    WHEN MATCHED THEN\n",
    "        UPDATE SET \n",
    "            book_id_BK = source.book_id_BK,\n",
    "            language_id_BK = source.language_id_BK,\n",
    "            author_id_BK = source.author_id_BK,\n",
    "            publisher_id_BK = source.publisher_id_BK,\n",
    "            isbn13 = source.isbn13,\n",
    "            publication_date = source.publication_date,\n",
    "            num_pages = source.num_pages,\n",
    "            language_name = source.language_name,\n",
    "            publisher_name = source.publisher_name,\n",
    "            author_name = source.author_name,\n",
    "            source_system_code = source.source_system_code,\n",
    "            start_date = source.start_date,\n",
    "            end_date = source.end_date,\n",
    "            is_current = source.is_current\n",
    "    WHEN NOT MATCHED THEN\n",
    "        INSERT (book_id_SK, book_id_BK, language_id_BK, author_id_BK, publisher_id_BK, \n",
    "               isbn13, publication_date, num_pages, language_name, publisher_name, \n",
    "               author_name, source_system_code, start_date, end_date, is_current)\n",
    "        VALUES (source.book_id_SK, source.book_id_BK, source.language_id_BK, \n",
    "               source.author_id_BK, source.publisher_id_BK, source.isbn13, \n",
    "               source.publication_date, source.num_pages, source.language_name, \n",
    "               source.publisher_name, source.author_name, source.source_system_code, \n",
    "               source.start_date, source.end_date, source.is_current);\n",
    "    \"\"\"\n",
    "    \n",
    "    for _, row in book.iterrows():\n",
    "        cursor1.execute(merge_query, tuple(row))\n",
    "        \n",
    "finally:\n",
    "    cursor1.execute(\"SET IDENTITY_INSERT DimBook OFF\")\n",
    "    conn1.commit()"
   ]
  },
  {
   "cell_type": "code",
   "execution_count": null,
   "id": "afd39cb5-1eee-4613-97bd-5cb58ec85135",
   "metadata": {},
   "outputs": [],
   "source": []
  },
  {
   "cell_type": "markdown",
   "id": "c7d847a8-d5f4-4bbd-972d-6e10e0965bcf",
   "metadata": {},
   "source": [
    "## Select data from DimOrder"
   ]
  },
  {
   "cell_type": "code",
   "execution_count": 1019,
   "id": "0662a9db-5988-45e8-900f-fa5b77a7fe2a",
   "metadata": {},
   "outputs": [
    {
     "name": "stderr",
     "output_type": "stream",
     "text": [
      "C:\\Users\\niyom\\AppData\\Local\\Temp\\ipykernel_12968\\2018308887.py:5: UserWarning: pandas only supports SQLAlchemy connectable (engine/connection) or database string URI or sqlite3 DBAPI2 connection. Other DBAPI2 objects are not tested. Please consider using SQLAlchemy.\n",
      "  dim_order_df = pd.read_sql(query, conn)\n"
     ]
    },
    {
     "data": {
      "text/html": [
       "<div>\n",
       "<style scoped>\n",
       "    .dataframe tbody tr th:only-of-type {\n",
       "        vertical-align: middle;\n",
       "    }\n",
       "\n",
       "    .dataframe tbody tr th {\n",
       "        vertical-align: top;\n",
       "    }\n",
       "\n",
       "    .dataframe thead th {\n",
       "        text-align: right;\n",
       "    }\n",
       "</style>\n",
       "<table border=\"1\" class=\"dataframe\">\n",
       "  <thead>\n",
       "    <tr style=\"text-align: right;\">\n",
       "      <th></th>\n",
       "      <th>method_id_bk</th>\n",
       "      <th>method_name</th>\n",
       "    </tr>\n",
       "  </thead>\n",
       "  <tbody>\n",
       "    <tr>\n",
       "      <th>0</th>\n",
       "      <td>1</td>\n",
       "      <td>Standard</td>\n",
       "    </tr>\n",
       "    <tr>\n",
       "      <th>1</th>\n",
       "      <td>2</td>\n",
       "      <td>Priority</td>\n",
       "    </tr>\n",
       "    <tr>\n",
       "      <th>2</th>\n",
       "      <td>3</td>\n",
       "      <td>Express</td>\n",
       "    </tr>\n",
       "    <tr>\n",
       "      <th>3</th>\n",
       "      <td>4</td>\n",
       "      <td>International</td>\n",
       "    </tr>\n",
       "  </tbody>\n",
       "</table>\n",
       "</div>"
      ],
      "text/plain": [
       "   method_id_bk    method_name\n",
       "0             1       Standard\n",
       "1             2       Priority\n",
       "2             3        Express\n",
       "3             4  International"
      ]
     },
     "execution_count": 1019,
     "metadata": {},
     "output_type": "execute_result"
    }
   ],
   "source": [
    "query = \"\"\"\n",
    "SELECT sm.method_id AS method_id_bk, sm.method_name\n",
    "FROM shipping_method sm\n",
    "\"\"\"\n",
    "dim_order_df = pd.read_sql(query, conn)\n",
    "dim_order_df"
   ]
  },
  {
   "cell_type": "markdown",
   "id": "a4599f7d-10bc-43d3-9d9e-6a46c650b99f",
   "metadata": {},
   "source": [
    "### Add required column "
   ]
  },
  {
   "cell_type": "code",
   "execution_count": 1022,
   "id": "0661efa6-22bb-497d-b1d5-7a7458c8a686",
   "metadata": {},
   "outputs": [],
   "source": [
    "import pandas as pd\n",
    "from datetime import datetime\n",
    "\n",
    "# Add required columns\n",
    "dim_order_df['source_system_code'] = 'STORE_BOOKS'  # Constant value\n",
    "dim_order_df['start_date'] = pd.to_datetime('2022-12-31')  # Set current timestamp\n",
    "dim_order_df['end_date'] = current_date   # Default to NULL\n",
    "dim_order_df['is_current'] = True  # Mark as current record"
   ]
  },
  {
   "cell_type": "markdown",
   "id": "1dbe9184-6e14-4bb1-8b43-9b2bdd476cdd",
   "metadata": {},
   "source": [
    "## Load Data to DimOrder"
   ]
  },
  {
   "cell_type": "code",
   "execution_count": 1025,
   "id": "7994aed0-bf4f-4fbc-bffb-d7b088345a86",
   "metadata": {},
   "outputs": [
    {
     "name": "stdout",
     "output_type": "stream",
     "text": [
      "DimOrder loaded successfully!\n"
     ]
    }
   ],
   "source": [
    "# Insert into DimOrder\n",
    "for _, row in dim_order_df.iterrows():\n",
    "    cursor1.execute(\"\"\"\n",
    "        INSERT INTO DimOrder (method_id_bk, method_name, source_system_code, start_date, end_date, is_current)\n",
    "        VALUES (?, ?, ?, ?, ?, ?)\n",
    "    \"\"\", row['method_id_bk'], row['method_name'], row['source_system_code'], row['start_date'], row['end_date'], row['is_current'])\n",
    "\n",
    "conn1.commit()\n",
    "print(\"DimOrder loaded successfully!\")\n"
   ]
  },
  {
   "cell_type": "code",
   "execution_count": 1027,
   "id": "b12957a0-5b80-43ca-8b68-7fc82c31da71",
   "metadata": {},
   "outputs": [
    {
     "data": {
      "text/html": [
       "<div>\n",
       "<style scoped>\n",
       "    .dataframe tbody tr th:only-of-type {\n",
       "        vertical-align: middle;\n",
       "    }\n",
       "\n",
       "    .dataframe tbody tr th {\n",
       "        vertical-align: top;\n",
       "    }\n",
       "\n",
       "    .dataframe thead th {\n",
       "        text-align: right;\n",
       "    }\n",
       "</style>\n",
       "<table border=\"1\" class=\"dataframe\">\n",
       "  <thead>\n",
       "    <tr style=\"text-align: right;\">\n",
       "      <th></th>\n",
       "      <th>method_id_bk</th>\n",
       "      <th>method_name</th>\n",
       "      <th>source_system_code</th>\n",
       "      <th>start_date</th>\n",
       "      <th>end_date</th>\n",
       "      <th>is_current</th>\n",
       "    </tr>\n",
       "  </thead>\n",
       "  <tbody>\n",
       "    <tr>\n",
       "      <th>0</th>\n",
       "      <td>1</td>\n",
       "      <td>Standard</td>\n",
       "      <td>STORE_BOOKS</td>\n",
       "      <td>2022-12-31</td>\n",
       "      <td>2025-03-29 19:49:19.387157</td>\n",
       "      <td>True</td>\n",
       "    </tr>\n",
       "    <tr>\n",
       "      <th>1</th>\n",
       "      <td>2</td>\n",
       "      <td>Priority</td>\n",
       "      <td>STORE_BOOKS</td>\n",
       "      <td>2022-12-31</td>\n",
       "      <td>2025-03-29 19:49:19.387157</td>\n",
       "      <td>True</td>\n",
       "    </tr>\n",
       "    <tr>\n",
       "      <th>2</th>\n",
       "      <td>3</td>\n",
       "      <td>Express</td>\n",
       "      <td>STORE_BOOKS</td>\n",
       "      <td>2022-12-31</td>\n",
       "      <td>2025-03-29 19:49:19.387157</td>\n",
       "      <td>True</td>\n",
       "    </tr>\n",
       "    <tr>\n",
       "      <th>3</th>\n",
       "      <td>4</td>\n",
       "      <td>International</td>\n",
       "      <td>STORE_BOOKS</td>\n",
       "      <td>2022-12-31</td>\n",
       "      <td>2025-03-29 19:49:19.387157</td>\n",
       "      <td>True</td>\n",
       "    </tr>\n",
       "  </tbody>\n",
       "</table>\n",
       "</div>"
      ],
      "text/plain": [
       "   method_id_bk    method_name source_system_code start_date  \\\n",
       "0             1       Standard        STORE_BOOKS 2022-12-31   \n",
       "1             2       Priority        STORE_BOOKS 2022-12-31   \n",
       "2             3        Express        STORE_BOOKS 2022-12-31   \n",
       "3             4  International        STORE_BOOKS 2022-12-31   \n",
       "\n",
       "                    end_date  is_current  \n",
       "0 2025-03-29 19:49:19.387157        True  \n",
       "1 2025-03-29 19:49:19.387157        True  \n",
       "2 2025-03-29 19:49:19.387157        True  \n",
       "3 2025-03-29 19:49:19.387157        True  "
      ]
     },
     "execution_count": 1027,
     "metadata": {},
     "output_type": "execute_result"
    }
   ],
   "source": [
    "dim_order_df.head()"
   ]
  },
  {
   "cell_type": "code",
   "execution_count": 1050,
   "id": "f2a4cd0a-2f3f-4d79-ad3f-3837229336d8",
   "metadata": {},
   "outputs": [
    {
     "data": {
      "text/html": [
       "<div>\n",
       "<style scoped>\n",
       "    .dataframe tbody tr th:only-of-type {\n",
       "        vertical-align: middle;\n",
       "    }\n",
       "\n",
       "    .dataframe tbody tr th {\n",
       "        vertical-align: top;\n",
       "    }\n",
       "\n",
       "    .dataframe thead th {\n",
       "        text-align: right;\n",
       "    }\n",
       "</style>\n",
       "<table border=\"1\" class=\"dataframe\">\n",
       "  <thead>\n",
       "    <tr style=\"text-align: right;\">\n",
       "      <th></th>\n",
       "      <th>method_id_bk</th>\n",
       "      <th>method_name</th>\n",
       "      <th>source_system_code</th>\n",
       "      <th>start_date</th>\n",
       "      <th>end_date</th>\n",
       "      <th>is_current</th>\n",
       "    </tr>\n",
       "  </thead>\n",
       "  <tbody>\n",
       "    <tr>\n",
       "      <th>0</th>\n",
       "      <td>1</td>\n",
       "      <td>Standard</td>\n",
       "      <td>STORE_BOOKS</td>\n",
       "      <td>2022-12-31</td>\n",
       "      <td>2025-03-29 19:49:19.387157</td>\n",
       "      <td>True</td>\n",
       "    </tr>\n",
       "    <tr>\n",
       "      <th>1</th>\n",
       "      <td>2</td>\n",
       "      <td>Priority</td>\n",
       "      <td>STORE_BOOKS</td>\n",
       "      <td>2022-12-31</td>\n",
       "      <td>2025-03-29 19:49:19.387157</td>\n",
       "      <td>True</td>\n",
       "    </tr>\n",
       "    <tr>\n",
       "      <th>2</th>\n",
       "      <td>3</td>\n",
       "      <td>Express</td>\n",
       "      <td>STORE_BOOKS</td>\n",
       "      <td>2022-12-31</td>\n",
       "      <td>2025-03-29 19:49:19.387157</td>\n",
       "      <td>True</td>\n",
       "    </tr>\n",
       "    <tr>\n",
       "      <th>3</th>\n",
       "      <td>4</td>\n",
       "      <td>International</td>\n",
       "      <td>STORE_BOOKS</td>\n",
       "      <td>2022-12-31</td>\n",
       "      <td>2025-03-29 19:49:19.387157</td>\n",
       "      <td>True</td>\n",
       "    </tr>\n",
       "  </tbody>\n",
       "</table>\n",
       "</div>"
      ],
      "text/plain": [
       "   method_id_bk    method_name source_system_code start_date  \\\n",
       "0             1       Standard        STORE_BOOKS 2022-12-31   \n",
       "1             2       Priority        STORE_BOOKS 2022-12-31   \n",
       "2             3        Express        STORE_BOOKS 2022-12-31   \n",
       "3             4  International        STORE_BOOKS 2022-12-31   \n",
       "\n",
       "                    end_date  is_current  \n",
       "0 2025-03-29 19:49:19.387157        True  \n",
       "1 2025-03-29 19:49:19.387157        True  \n",
       "2 2025-03-29 19:49:19.387157        True  \n",
       "3 2025-03-29 19:49:19.387157        True  "
      ]
     },
     "execution_count": 1050,
     "metadata": {},
     "output_type": "execute_result"
    }
   ],
   "source": [
    "dim_order_df.dropna()"
   ]
  },
  {
   "cell_type": "markdown",
   "id": "19c45e95-48fc-4089-8f1b-f298f53a8c7b",
   "metadata": {},
   "source": [
    "## Load data to DimDate table"
   ]
  },
  {
   "cell_type": "code",
   "execution_count": 1030,
   "id": "579cb6c8-9e63-409b-bce5-e9b7e81f19a9",
   "metadata": {},
   "outputs": [
    {
     "name": "stderr",
     "output_type": "stream",
     "text": [
      "C:\\Users\\niyom\\AppData\\Local\\Temp\\ipykernel_12968\\3599814534.py:2: UserWarning: pandas only supports SQLAlchemy connectable (engine/connection) or database string URI or sqlite3 DBAPI2 connection. Other DBAPI2 objects are not tested. Please consider using SQLAlchemy.\n",
      "  dim_date_df = pd.read_sql(query, conn1)\n"
     ]
    },
    {
     "name": "stdout",
     "output_type": "stream",
     "text": [
      "DimDate loaded successfully!\n"
     ]
    }
   ],
   "source": [
    "query = \"SELECT date_id_SK, year, month, day, start_date, end_date, is_current FROM DimDate\"\n",
    "dim_date_df = pd.read_sql(query, conn1)\n",
    "cursor1.execute(\"SET IDENTITY_INSERT DimDate ON;\")\n",
    "\n",
    "for _, row in dim_date_df.iterrows():\n",
    "    cursor1.execute(\"\"\"\n",
    "        INSERT INTO DimDate (date_id_SK, year, month, day, start_date, end_date, is_current)\n",
    "        SELECT ?, ?, ?, ?, ?, ?, ?\n",
    "        WHERE NOT EXISTS (SELECT 1 FROM DimDate WHERE date_id_SK = ?)\n",
    "    \"\"\", row.date_id_SK, row.year, row.month, row.day, row.start_date, row.end_date, row.is_current, row.date_id_SK)\n",
    "\n",
    "conn1.commit()\n",
    "print(\"DimDate loaded successfully!\")\n",
    "\n",
    "\n",
    "# # Enable IDENTITY_INSERT for DimDate to allow inserting into the identity column\n",
    "# cursor1.execute(\"SET IDENTITY_INSERT DimBook OFF\")\n",
    "# cursor1.execute(\"SET IDENTITY_INSERT DimDate ON;\")\n",
    "\n",
    "# # Insert data into DimDate\n",
    "# for _, row in dim_date_df.iterrows():\n",
    "#     cursor1.execute(\"\"\"\n",
    "#         INSERT INTO DimDate (date_id_SK, year, month, day, start_date, end_date, is_current)\n",
    "#         SELECT ?, ?, ?, ?, ?, ?, ?\n",
    "#         WHERE NOT EXISTS (SELECT 1 FROM DimDate WHERE date_id_SK = ?)\n",
    "#     \"\"\", row.date_id_SK, row.year, row.month, row.day, row.start_date, row.end_date, row.is_current, row.date_id_SK)\n",
    "\n",
    "# # Disable IDENTITY_INSERT after inserting\n",
    "# cursor1.execute(\"SET IDENTITY_INSERT DimDate OFF;\")\n",
    "\n",
    "# # Commit the transaction\n",
    "# conn1.commit()\n",
    "# print(\"DimDate loaded successfully!\")\n"
   ]
  },
  {
   "cell_type": "markdown",
   "id": "88d885c7-62f1-4f9a-a4ce-668aee500ba1",
   "metadata": {},
   "source": [
    "## Drop Duplicates Before Inserting"
   ]
  },
  {
   "cell_type": "code",
   "execution_count": 1033,
   "id": "c14dc213-377c-4442-800d-c0aa99d58c3a",
   "metadata": {},
   "outputs": [],
   "source": [
    "# dim_date_df = dim_date_df.drop_duplicates(subset=['date_id_SK'])"
   ]
  },
  {
   "cell_type": "code",
   "execution_count": 1035,
   "id": "6144e39c-553a-4ddb-9669-3765e658288e",
   "metadata": {},
   "outputs": [],
   "source": [
    "# try:\n",
    "#     print(dim_date_df.head())  # Check if it exists\n",
    "# except NameError:\n",
    "#     print(\"dim_date_df is not defined!\")"
   ]
  },
  {
   "cell_type": "markdown",
   "id": "31cec937-4480-4db8-90c2-f88ea3ffabbb",
   "metadata": {},
   "source": [
    "## FactOrder"
   ]
  },
  {
   "cell_type": "code",
   "execution_count": 1038,
   "id": "a54fb929-76c2-4cf3-ab61-82601b6ac145",
   "metadata": {},
   "outputs": [
    {
     "name": "stderr",
     "output_type": "stream",
     "text": [
      "C:\\Users\\niyom\\AppData\\Local\\Temp\\ipykernel_12968\\21416746.py:26: UserWarning: pandas only supports SQLAlchemy connectable (engine/connection) or database string URI or sqlite3 DBAPI2 connection. Other DBAPI2 objects are not tested. Please consider using SQLAlchemy.\n",
      "  fact_order_df = pd.read_sql(fact_order_query, conn)\n"
     ]
    },
    {
     "name": "stdout",
     "output_type": "stream",
     "text": [
      "Extracted Fact Order Data with Status:\n"
     ]
    },
    {
     "data": {
      "text/html": [
       "<div>\n",
       "<style scoped>\n",
       "    .dataframe tbody tr th:only-of-type {\n",
       "        vertical-align: middle;\n",
       "    }\n",
       "\n",
       "    .dataframe tbody tr th {\n",
       "        vertical-align: top;\n",
       "    }\n",
       "\n",
       "    .dataframe thead th {\n",
       "        text-align: right;\n",
       "    }\n",
       "</style>\n",
       "<table border=\"1\" class=\"dataframe\">\n",
       "  <thead>\n",
       "    <tr style=\"text-align: right;\">\n",
       "      <th></th>\n",
       "      <th>order_id_SC</th>\n",
       "      <th>line_id</th>\n",
       "      <th>order_id</th>\n",
       "      <th>history_id</th>\n",
       "      <th>book_id</th>\n",
       "      <th>customer_id</th>\n",
       "      <th>shipping_method_id</th>\n",
       "      <th>order_date_id</th>\n",
       "      <th>status_id</th>\n",
       "      <th>order_status</th>\n",
       "      <th>price</th>\n",
       "      <th>shipping_cost</th>\n",
       "      <th>source_system_code</th>\n",
       "      <th>created_at</th>\n",
       "    </tr>\n",
       "  </thead>\n",
       "  <tbody>\n",
       "    <tr>\n",
       "      <th>0</th>\n",
       "      <td>1</td>\n",
       "      <td>731</td>\n",
       "      <td>1</td>\n",
       "      <td>1</td>\n",
       "      <td>4003</td>\n",
       "      <td>703</td>\n",
       "      <td>1</td>\n",
       "      <td>2023-05-31</td>\n",
       "      <td>1</td>\n",
       "      <td>Order Received</td>\n",
       "      <td>15.24</td>\n",
       "      <td>5.9</td>\n",
       "      <td>GRAVITY_BOOKS</td>\n",
       "      <td>2025-03-29 19:50:14.500</td>\n",
       "    </tr>\n",
       "    <tr>\n",
       "      <th>1</th>\n",
       "      <td>2</td>\n",
       "      <td>731</td>\n",
       "      <td>1</td>\n",
       "      <td>7548</td>\n",
       "      <td>4003</td>\n",
       "      <td>703</td>\n",
       "      <td>1</td>\n",
       "      <td>2023-05-31</td>\n",
       "      <td>2</td>\n",
       "      <td>Pending Delivery</td>\n",
       "      <td>15.24</td>\n",
       "      <td>5.9</td>\n",
       "      <td>GRAVITY_BOOKS</td>\n",
       "      <td>2025-03-29 19:50:14.500</td>\n",
       "    </tr>\n",
       "    <tr>\n",
       "      <th>2</th>\n",
       "      <td>3</td>\n",
       "      <td>731</td>\n",
       "      <td>1</td>\n",
       "      <td>16580</td>\n",
       "      <td>4003</td>\n",
       "      <td>703</td>\n",
       "      <td>1</td>\n",
       "      <td>2023-05-31</td>\n",
       "      <td>3</td>\n",
       "      <td>Delivery In Progress</td>\n",
       "      <td>15.24</td>\n",
       "      <td>5.9</td>\n",
       "      <td>GRAVITY_BOOKS</td>\n",
       "      <td>2025-03-29 19:50:14.500</td>\n",
       "    </tr>\n",
       "    <tr>\n",
       "      <th>3</th>\n",
       "      <td>4</td>\n",
       "      <td>731</td>\n",
       "      <td>1</td>\n",
       "      <td>19953</td>\n",
       "      <td>4003</td>\n",
       "      <td>703</td>\n",
       "      <td>1</td>\n",
       "      <td>2023-05-31</td>\n",
       "      <td>4</td>\n",
       "      <td>Delivered</td>\n",
       "      <td>15.24</td>\n",
       "      <td>5.9</td>\n",
       "      <td>GRAVITY_BOOKS</td>\n",
       "      <td>2025-03-29 19:50:14.500</td>\n",
       "    </tr>\n",
       "    <tr>\n",
       "      <th>4</th>\n",
       "      <td>5</td>\n",
       "      <td>13637</td>\n",
       "      <td>1</td>\n",
       "      <td>19953</td>\n",
       "      <td>10617</td>\n",
       "      <td>703</td>\n",
       "      <td>1</td>\n",
       "      <td>2023-05-31</td>\n",
       "      <td>4</td>\n",
       "      <td>Delivered</td>\n",
       "      <td>13.02</td>\n",
       "      <td>5.9</td>\n",
       "      <td>GRAVITY_BOOKS</td>\n",
       "      <td>2025-03-29 19:50:14.500</td>\n",
       "    </tr>\n",
       "  </tbody>\n",
       "</table>\n",
       "</div>"
      ],
      "text/plain": [
       "   order_id_SC  line_id  order_id  history_id  book_id  customer_id  \\\n",
       "0            1      731         1           1     4003          703   \n",
       "1            2      731         1        7548     4003          703   \n",
       "2            3      731         1       16580     4003          703   \n",
       "3            4      731         1       19953     4003          703   \n",
       "4            5    13637         1       19953    10617          703   \n",
       "\n",
       "   shipping_method_id order_date_id  status_id          order_status  price  \\\n",
       "0                   1    2023-05-31          1        Order Received  15.24   \n",
       "1                   1    2023-05-31          2      Pending Delivery  15.24   \n",
       "2                   1    2023-05-31          3  Delivery In Progress  15.24   \n",
       "3                   1    2023-05-31          4             Delivered  15.24   \n",
       "4                   1    2023-05-31          4             Delivered  13.02   \n",
       "\n",
       "   shipping_cost source_system_code              created_at  \n",
       "0            5.9      GRAVITY_BOOKS 2025-03-29 19:50:14.500  \n",
       "1            5.9      GRAVITY_BOOKS 2025-03-29 19:50:14.500  \n",
       "2            5.9      GRAVITY_BOOKS 2025-03-29 19:50:14.500  \n",
       "3            5.9      GRAVITY_BOOKS 2025-03-29 19:50:14.500  \n",
       "4            5.9      GRAVITY_BOOKS 2025-03-29 19:50:14.500  "
      ]
     },
     "metadata": {},
     "output_type": "display_data"
    },
    {
     "name": "stdout",
     "output_type": "stream",
     "text": [
      "\n",
      "DataFrame Columns:\n",
      "['order_id_SC', 'line_id', 'order_id', 'history_id', 'book_id', 'customer_id', 'shipping_method_id', 'order_date_id', 'status_id', 'order_status', 'price', 'shipping_cost', 'source_system_code', 'created_at']\n",
      "\n",
      "Order Status Distribution:\n",
      "order_status\n",
      "Order Received          15393\n",
      "Pending Delivery        13887\n",
      "Delivery In Progress     8138\n",
      "Delivered                7207\n",
      "Cancelled                 613\n",
      "Returned                  415\n",
      "Name: count, dtype: int64\n"
     ]
    }
   ],
   "source": [
    "# SQL Query to extract fact order data with order_status\n",
    "fact_order_query = \"\"\"\n",
    "SELECT \n",
    "    ROW_NUMBER() OVER (ORDER BY co.order_id, ol.line_id) AS order_id_SC,\n",
    "    ol.line_id,\n",
    "    co.order_id,\n",
    "    oh.history_id,\n",
    "    ol.book_id,                      -- Source system book_id\n",
    "    co.customer_id,                  -- Source system customer_id\n",
    "    co.shipping_method_id,           -- Source system method_id\n",
    "    CONVERT(DATE, co.order_date) AS order_date_id,  -- Source date\n",
    "    os.status_id,\n",
    "    os.status_value AS order_status,  -- Added order_status column\n",
    "    ol.price,\n",
    "    sm.cost AS shipping_cost,\n",
    "    'GRAVITY_BOOKS' AS source_system_code,\n",
    "    GETDATE() AS created_at\n",
    "FROM cust_order co\n",
    "JOIN order_line ol ON co.order_id = ol.order_id\n",
    "JOIN order_history oh ON co.order_id = oh.order_id\n",
    "JOIN order_status os ON oh.status_id = os.status_id\n",
    "JOIN shipping_method sm ON co.shipping_method_id = sm.method_id;\n",
    "\"\"\"\n",
    "\n",
    "# Extract Data into DataFrame\n",
    "fact_order_df = pd.read_sql(fact_order_query, conn)\n",
    "\n",
    "# Display Extracted Data\n",
    "print(\"Extracted Fact Order Data with Status:\")\n",
    "display(fact_order_df.head())\n",
    "\n",
    "# Verify column names and structure\n",
    "print(\"\\nDataFrame Columns:\")\n",
    "print(fact_order_df.columns.tolist())\n",
    "\n",
    "# Show status value counts\n",
    "print(\"\\nOrder Status Distribution:\")\n",
    "print(fact_order_df['order_status'].value_counts())"
   ]
  },
  {
   "cell_type": "markdown",
   "id": "b6a28880-5dad-402e-9106-bffda67dd243",
   "metadata": {},
   "source": [
    "###  Rename  the columns"
   ]
  },
  {
   "cell_type": "code",
   "execution_count": 1040,
   "id": "be36de63-11ef-4583-b7fc-16f081f8f829",
   "metadata": {},
   "outputs": [
    {
     "data": {
      "text/html": [
       "<div>\n",
       "<style scoped>\n",
       "    .dataframe tbody tr th:only-of-type {\n",
       "        vertical-align: middle;\n",
       "    }\n",
       "\n",
       "    .dataframe tbody tr th {\n",
       "        vertical-align: top;\n",
       "    }\n",
       "\n",
       "    .dataframe thead th {\n",
       "        text-align: right;\n",
       "    }\n",
       "</style>\n",
       "<table border=\"1\" class=\"dataframe\">\n",
       "  <thead>\n",
       "    <tr style=\"text-align: right;\">\n",
       "      <th></th>\n",
       "      <th>order_id_SK</th>\n",
       "      <th>line_id</th>\n",
       "      <th>order_id_BK</th>\n",
       "      <th>order_history_id</th>\n",
       "      <th>book_id</th>\n",
       "      <th>customer_id</th>\n",
       "      <th>shipping_id</th>\n",
       "      <th>order_status_id</th>\n",
       "      <th>order_date_id</th>\n",
       "      <th>order_status</th>\n",
       "      <th>price</th>\n",
       "      <th>shipping_cost</th>\n",
       "      <th>source_system_code</th>\n",
       "      <th>created_at</th>\n",
       "    </tr>\n",
       "  </thead>\n",
       "  <tbody>\n",
       "    <tr>\n",
       "      <th>0</th>\n",
       "      <td>1</td>\n",
       "      <td>731</td>\n",
       "      <td>1</td>\n",
       "      <td>1</td>\n",
       "      <td>4003</td>\n",
       "      <td>703</td>\n",
       "      <td>1</td>\n",
       "      <td>1</td>\n",
       "      <td>2023-05-31</td>\n",
       "      <td>Order Received</td>\n",
       "      <td>15.24</td>\n",
       "      <td>5.9</td>\n",
       "      <td>GRAVITY_BOOKS</td>\n",
       "      <td>2025-03-29 19:50:14.500</td>\n",
       "    </tr>\n",
       "    <tr>\n",
       "      <th>1</th>\n",
       "      <td>2</td>\n",
       "      <td>731</td>\n",
       "      <td>1</td>\n",
       "      <td>7548</td>\n",
       "      <td>4003</td>\n",
       "      <td>703</td>\n",
       "      <td>1</td>\n",
       "      <td>2</td>\n",
       "      <td>2023-05-31</td>\n",
       "      <td>Pending Delivery</td>\n",
       "      <td>15.24</td>\n",
       "      <td>5.9</td>\n",
       "      <td>GRAVITY_BOOKS</td>\n",
       "      <td>2025-03-29 19:50:14.500</td>\n",
       "    </tr>\n",
       "  </tbody>\n",
       "</table>\n",
       "</div>"
      ],
      "text/plain": [
       "   order_id_SK  line_id  order_id_BK  order_history_id  book_id  customer_id  \\\n",
       "0            1      731            1                 1     4003          703   \n",
       "1            2      731            1              7548     4003          703   \n",
       "\n",
       "   shipping_id  order_status_id order_date_id      order_status  price  \\\n",
       "0            1                1    2023-05-31    Order Received  15.24   \n",
       "1            1                2    2023-05-31  Pending Delivery  15.24   \n",
       "\n",
       "   shipping_cost source_system_code              created_at  \n",
       "0            5.9      GRAVITY_BOOKS 2025-03-29 19:50:14.500  \n",
       "1            5.9      GRAVITY_BOOKS 2025-03-29 19:50:14.500  "
      ]
     },
     "execution_count": 1040,
     "metadata": {},
     "output_type": "execute_result"
    }
   ],
   "source": [
    "fact= fact_order_df[['order_id_SC','line_id', 'order_id','history_id','book_id','customer_id','shipping_method_id','status_id','order_date_id','order_status'\n",
    "               ,'price','shipping_cost','source_system_code','created_at']]\n",
    "fact = fact .rename(columns={'order_id_SC': 'order_id_SK', 'line_id': 'line_id', 'order_id': 'order_id_BK', 'history_id': 'order_history_id',\n",
    "                                    'book_id': 'book_id',\n",
    "                                    'customer_id': 'customer_id',\n",
    "                                    'shipping_method_id': 'shipping_id',\n",
    "                                    'status_id': 'order_status_id',\n",
    "                                    'order_date': 'order_date_id',\n",
    "                                    'order_status': 'order_status',\n",
    "                                    'price': 'price',\n",
    "                                    'shipping_cost': 'shipping_cost',\n",
    "                                    'source_system_code': 'source_system_code',\n",
    "                                    'created_at\t': 'created_at\t'})\n",
    "fact.head(2)"
   ]
  },
  {
   "cell_type": "markdown",
   "id": "c2831ac6-6ef1-4a50-b0cb-acbd158d734c",
   "metadata": {},
   "source": [
    "### Load the Data into FactOrder table"
   ]
  },
  {
   "cell_type": "code",
   "execution_count": 1044,
   "id": "1d539464-6ec9-44bf-86c1-3dbbe4277898",
   "metadata": {},
   "outputs": [],
   "source": [
    "# Proceed with your MERGE operation\n",
    "import pandas as pd\n",
    "from datetime import datetime  # Add this import at the top of your script\n",
    "try:\n",
    "    # First turn off any existing IDENTITY_INSERT\n",
    "    cursor1.execute(\"SET IDENTITY_INSERT DimOrder OFF\")\n",
    "    cursor1.execute(\"SET IDENTITY_INSERT DimDate OFF\")\n",
    "    cursor1.execute(\"SET IDENTITY_INSERT DimBook OFF\")\n",
    "    cursor1.execute(\"SET IDENTITY_INSERT DimCustomer OFF\")\n",
    "    cursor1.execute(\"SET IDENTITY_INSERT FactOrder ON\")\n",
    "    fact['order_date_id'] = pd.to_datetime(fact['order_date_id'], errors='coerce')\n",
    "\n",
    "    fact['order_date_id'] = fact['order_date_id'].dt.strftime('%Y%m%d').astype(int)\n",
    "\n",
    "    merge_query = \"\"\"\n",
    "    MERGE INTO FactOrder AS target\n",
    "    USING (VALUES (?, ?, ?, ?, ?, ?, ?, ?, ?, ?, ?, ?, ?, ?)) \n",
    "    AS source(order_id_SK, line_id, order_id_BK, order_history_id, book_id, \n",
    "             customer_id, shipping_id, order_status_id, order_date_id, order_status, \n",
    "             price, shipping_cost, source_system_code, created_at)\n",
    "    ON target.order_id_SK = source.order_id_SK\n",
    "    WHEN MATCHED THEN\n",
    "        UPDATE SET \n",
    "            line_id = source.line_id,\n",
    "            order_id_BK = source.order_id_BK,\n",
    "            order_history_id = source.order_history_id,\n",
    "            book_id = source.book_id,\n",
    "            customer_id = source.customer_id,\n",
    "            shipping_id = source.shipping_id,\n",
    "            order_status_id = source.order_status_id,\n",
    "            order_date_id = source.order_date_id,\n",
    "            order_status = source.order_status,\n",
    "            price = source.price,\n",
    "            shipping_cost = source.shipping_cost,\n",
    "            source_system_code = source.source_system_code,\n",
    "            created_at = source.created_at  -- REMOVED THE TRAILING COMMA HERE\n",
    "    WHEN NOT MATCHED THEN\n",
    "        INSERT (order_id_SK, line_id, order_id_BK, order_history_id, book_id, \n",
    "             customer_id, shipping_id, order_status_id, order_date_id, order_status, \n",
    "             price, shipping_cost, source_system_code, created_at)\n",
    "        VALUES (source.order_id_SK, source.line_id, source.order_id_BK, \n",
    "               source.order_history_id, source.book_id, source.customer_id, \n",
    "               source.shipping_id, source.order_status_id, source.order_date_id, \n",
    "               source.order_status, source.price, source.shipping_cost, source.source_system_code, \n",
    "               source.created_at);\n",
    "    \"\"\"\n",
    "    \n",
    "    for _, row in fact.iterrows():\n",
    "        cursor1.execute(merge_query, tuple(row))\n",
    "        \n",
    "finally:\n",
    "    cursor1.execute(\"SET IDENTITY_INSERT FactOrder OFF\")\n",
    "    conn1.commit()"
   ]
  },
  {
   "cell_type": "code",
   "execution_count": 1045,
   "id": "7c2312ea-d0cb-4140-a30e-c574294273a6",
   "metadata": {},
   "outputs": [
    {
     "data": {
      "text/html": [
       "<div>\n",
       "<style scoped>\n",
       "    .dataframe tbody tr th:only-of-type {\n",
       "        vertical-align: middle;\n",
       "    }\n",
       "\n",
       "    .dataframe tbody tr th {\n",
       "        vertical-align: top;\n",
       "    }\n",
       "\n",
       "    .dataframe thead th {\n",
       "        text-align: right;\n",
       "    }\n",
       "</style>\n",
       "<table border=\"1\" class=\"dataframe\">\n",
       "  <thead>\n",
       "    <tr style=\"text-align: right;\">\n",
       "      <th></th>\n",
       "      <th>order_id_SK</th>\n",
       "      <th>line_id</th>\n",
       "      <th>order_id_BK</th>\n",
       "      <th>order_history_id</th>\n",
       "      <th>book_id</th>\n",
       "      <th>customer_id</th>\n",
       "      <th>shipping_id</th>\n",
       "      <th>order_status_id</th>\n",
       "      <th>order_date_id</th>\n",
       "      <th>order_status</th>\n",
       "      <th>price</th>\n",
       "      <th>shipping_cost</th>\n",
       "      <th>source_system_code</th>\n",
       "      <th>created_at</th>\n",
       "    </tr>\n",
       "  </thead>\n",
       "  <tbody>\n",
       "    <tr>\n",
       "      <th>0</th>\n",
       "      <td>1</td>\n",
       "      <td>731</td>\n",
       "      <td>1</td>\n",
       "      <td>1</td>\n",
       "      <td>4003</td>\n",
       "      <td>703</td>\n",
       "      <td>1</td>\n",
       "      <td>1</td>\n",
       "      <td>20230531</td>\n",
       "      <td>Order Received</td>\n",
       "      <td>15.24</td>\n",
       "      <td>5.9</td>\n",
       "      <td>GRAVITY_BOOKS</td>\n",
       "      <td>2025-03-29 19:50:14.500</td>\n",
       "    </tr>\n",
       "    <tr>\n",
       "      <th>1</th>\n",
       "      <td>2</td>\n",
       "      <td>731</td>\n",
       "      <td>1</td>\n",
       "      <td>7548</td>\n",
       "      <td>4003</td>\n",
       "      <td>703</td>\n",
       "      <td>1</td>\n",
       "      <td>2</td>\n",
       "      <td>20230531</td>\n",
       "      <td>Pending Delivery</td>\n",
       "      <td>15.24</td>\n",
       "      <td>5.9</td>\n",
       "      <td>GRAVITY_BOOKS</td>\n",
       "      <td>2025-03-29 19:50:14.500</td>\n",
       "    </tr>\n",
       "    <tr>\n",
       "      <th>2</th>\n",
       "      <td>3</td>\n",
       "      <td>731</td>\n",
       "      <td>1</td>\n",
       "      <td>16580</td>\n",
       "      <td>4003</td>\n",
       "      <td>703</td>\n",
       "      <td>1</td>\n",
       "      <td>3</td>\n",
       "      <td>20230531</td>\n",
       "      <td>Delivery In Progress</td>\n",
       "      <td>15.24</td>\n",
       "      <td>5.9</td>\n",
       "      <td>GRAVITY_BOOKS</td>\n",
       "      <td>2025-03-29 19:50:14.500</td>\n",
       "    </tr>\n",
       "    <tr>\n",
       "      <th>3</th>\n",
       "      <td>4</td>\n",
       "      <td>731</td>\n",
       "      <td>1</td>\n",
       "      <td>19953</td>\n",
       "      <td>4003</td>\n",
       "      <td>703</td>\n",
       "      <td>1</td>\n",
       "      <td>4</td>\n",
       "      <td>20230531</td>\n",
       "      <td>Delivered</td>\n",
       "      <td>15.24</td>\n",
       "      <td>5.9</td>\n",
       "      <td>GRAVITY_BOOKS</td>\n",
       "      <td>2025-03-29 19:50:14.500</td>\n",
       "    </tr>\n",
       "    <tr>\n",
       "      <th>4</th>\n",
       "      <td>5</td>\n",
       "      <td>13637</td>\n",
       "      <td>1</td>\n",
       "      <td>19953</td>\n",
       "      <td>10617</td>\n",
       "      <td>703</td>\n",
       "      <td>1</td>\n",
       "      <td>4</td>\n",
       "      <td>20230531</td>\n",
       "      <td>Delivered</td>\n",
       "      <td>13.02</td>\n",
       "      <td>5.9</td>\n",
       "      <td>GRAVITY_BOOKS</td>\n",
       "      <td>2025-03-29 19:50:14.500</td>\n",
       "    </tr>\n",
       "  </tbody>\n",
       "</table>\n",
       "</div>"
      ],
      "text/plain": [
       "   order_id_SK  line_id  order_id_BK  order_history_id  book_id  customer_id  \\\n",
       "0            1      731            1                 1     4003          703   \n",
       "1            2      731            1              7548     4003          703   \n",
       "2            3      731            1             16580     4003          703   \n",
       "3            4      731            1             19953     4003          703   \n",
       "4            5    13637            1             19953    10617          703   \n",
       "\n",
       "   shipping_id  order_status_id  order_date_id          order_status  price  \\\n",
       "0            1                1       20230531        Order Received  15.24   \n",
       "1            1                2       20230531      Pending Delivery  15.24   \n",
       "2            1                3       20230531  Delivery In Progress  15.24   \n",
       "3            1                4       20230531             Delivered  15.24   \n",
       "4            1                4       20230531             Delivered  13.02   \n",
       "\n",
       "   shipping_cost source_system_code              created_at  \n",
       "0            5.9      GRAVITY_BOOKS 2025-03-29 19:50:14.500  \n",
       "1            5.9      GRAVITY_BOOKS 2025-03-29 19:50:14.500  \n",
       "2            5.9      GRAVITY_BOOKS 2025-03-29 19:50:14.500  \n",
       "3            5.9      GRAVITY_BOOKS 2025-03-29 19:50:14.500  \n",
       "4            5.9      GRAVITY_BOOKS 2025-03-29 19:50:14.500  "
      ]
     },
     "execution_count": 1045,
     "metadata": {},
     "output_type": "execute_result"
    }
   ],
   "source": [
    "fact.head()"
   ]
  },
  {
   "cell_type": "code",
   "execution_count": 1046,
   "id": "c6c3175e-6476-4389-8875-a978e09003ad",
   "metadata": {},
   "outputs": [
    {
     "name": "stdout",
     "output_type": "stream",
     "text": [
      "order_id_SK                    int64\n",
      "line_id                        int64\n",
      "order_id_BK                    int64\n",
      "order_history_id               int64\n",
      "book_id                        int64\n",
      "customer_id                    int64\n",
      "shipping_id                    int64\n",
      "order_status_id                int64\n",
      "order_date_id                  int32\n",
      "order_status                  object\n",
      "price                        float64\n",
      "shipping_cost                float64\n",
      "source_system_code            object\n",
      "created_at            datetime64[ns]\n",
      "dtype: object\n"
     ]
    }
   ],
   "source": [
    "print(fact.dtypes)\n"
   ]
  },
  {
   "cell_type": "code",
   "execution_count": null,
   "id": "2093edcc-1e09-4845-b5d6-f1ebf53f33a9",
   "metadata": {},
   "outputs": [],
   "source": []
  }
 ],
 "metadata": {
  "kernelspec": {
   "display_name": "Python [conda env:base] *",
   "language": "python",
   "name": "conda-base-py"
  },
  "language_info": {
   "codemirror_mode": {
    "name": "ipython",
    "version": 3
   },
   "file_extension": ".py",
   "mimetype": "text/x-python",
   "name": "python",
   "nbconvert_exporter": "python",
   "pygments_lexer": "ipython3",
   "version": "3.12.7"
  }
 },
 "nbformat": 4,
 "nbformat_minor": 5
}
